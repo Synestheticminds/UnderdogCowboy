{
 "cells": [
  {
   "cell_type": "code",
   "execution_count": 7,
   "metadata": {},
   "outputs": [
    {
     "name": "stdout",
     "output_type": "stream",
     "text": [
      "anthropic model initialized successfully.\n",
      "Timeline loaded from None, starting in interactive mode with current position at index 1.\n",
      "Interactive mode started.\n",
      "Sending message to: anthropic\n",
      "Request Data: {'messages': [{'role': 'user', 'content': 'Hello there!'}, {'role': 'assistant', 'content': 'Hi! How can I help you today?'}, {'role': 'user', 'content': 'small message back please, we testing if we can reach you'}], 'model': 'claude-3-5-sonnet-20240620', 'max_tokens': 1000}\n",
      "Response Status Code: 200\n",
      "Response Text: {\"id\":\"msg_01RkxJrM1gReBWoSDXhy9LiE\",\"type\":\"message\",\"role\":\"assistant\",\"model\":\"claude-3-5-sonnet-20240620\",\"content\":[{\"type\":\"text\",\"text\":\"Hello! This is a small message confirming that you've successfully reached me. I'm here and ready to assist if needed.\"}],\"stop_reason\":\"end_turn\",\"stop_sequence\":null,\"usage\":{\"input_tokens\":37,\"output_tokens\":29}}\n",
      "Hello! This is a small message confirming that you've successfully reached me. I'm here and ready to assist if needed.\n",
      "google-vertex model initialized successfully.\n",
      "Timeline loaded from None, starting in interactive mode with current position at index 1.\n",
      "Interactive mode started.\n",
      "Sending message to: google-vertex\n",
      "Message received!  Testing successful. 😊 \n",
      "\n",
      "groq model initialized successfully.\n",
      "Timeline loaded from None, starting in interactive mode with current position at index 1.\n",
      "Interactive mode started.\n",
      "Sending message to: groq\n"
     ]
    },
    {
     "name": "stderr",
     "output_type": "stream",
     "text": [
      "INFO:httpx:HTTP Request: POST https://api.groq.com/openai/v1/chat/completions \"HTTP/1.1 200 OK\"\n"
     ]
    },
    {
     "name": "stdout",
     "output_type": "stream",
     "text": [
      "Hi again! I'm here!\n"
     ]
    }
   ],
   "source": [
    "from underdogcowboy import AgentDialogManager, LLMConfigManager, test_agent \n",
    "\n",
    "models = LLMConfigManager().get_available_models()\n",
    "\n",
    "for model in  models:\n",
    "    adm = AgentDialogManager([test_agent],model_name=model)\n",
    "    print(f\"Sending message to: {adm.model_name}\")\n",
    "    print(test_agent >> \"small message back please, we testing if we can reach you\")\n"
   ]
  },
  {
   "cell_type": "code",
   "execution_count": null,
   "metadata": {},
   "outputs": [],
   "source": []
  }
 ],
 "metadata": {
  "kernelspec": {
   "display_name": "base",
   "language": "python",
   "name": "python3"
  },
  "language_info": {
   "codemirror_mode": {
    "name": "ipython",
    "version": 3
   },
   "file_extension": ".py",
   "mimetype": "text/x-python",
   "name": "python",
   "nbconvert_exporter": "python",
   "pygments_lexer": "ipython3",
   "version": "3.11.4"
  }
 },
 "nbformat": 4,
 "nbformat_minor": 2
}
