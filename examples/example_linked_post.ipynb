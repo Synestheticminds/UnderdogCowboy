{
 "cells": [
  {
   "cell_type": "code",
   "execution_count": 6,
   "metadata": {},
   "outputs": [
    {
     "name": "stdout",
     "output_type": "stream",
     "text": [
      "0\n",
      "empty \n"
     ]
    }
   ],
   "source": [
    "import sys\n",
    "import subprocess\n",
    "\n",
    "from underdogcowboy import commit_promo\n",
    "\n",
    "def run_command(command):\n",
    "        process = subprocess.Popen(command, stdout=subprocess.PIPE, stderr=subprocess.PIPE, shell=True)\n",
    "        output, error = process.communicate()\n",
    "        print(process.returncode)\n",
    "        if process.returncode != 0:\n",
    "            print(f\"Error executing command: {command}\")\n",
    "            print(error.decode('utf-8'))\n",
    "            sys.exit(1)\n",
    "        return output.decode('utf-8').strip()\n",
    "\n",
    "command = \"git diff dev_local_rene..release/0.1.12 -- /Users/reneluijk/projects/UnderdogCowboy/underdogcowboy/core/extractor.py > extractor_diff.txt\"\n",
    "run_command(command)\n",
    "\n",
    "\n",
    "diff_txt = \"/Users/reneluijk/projects/UnderdogCowboy/underdogcowboy/extractor_diff.txt\"\n",
    "commit_promo.create_linked_in_post_from_diff(diff_txt)\n",
    "\n",
    "\n"
   ]
  }
 ],
 "metadata": {
  "kernelspec": {
   "display_name": "base",
   "language": "python",
   "name": "python3"
  },
  "language_info": {
   "codemirror_mode": {
    "name": "ipython",
    "version": 3
   },
   "file_extension": ".py",
   "mimetype": "text/x-python",
   "name": "python",
   "nbconvert_exporter": "python",
   "pygments_lexer": "ipython3",
   "version": "3.11.4"
  }
 },
 "nbformat": 4,
 "nbformat_minor": 2
}
