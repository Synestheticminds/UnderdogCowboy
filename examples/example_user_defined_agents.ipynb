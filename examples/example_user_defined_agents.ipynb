{
 "cells": [
  {
   "cell_type": "code",
   "execution_count": null,
   "metadata": {},
   "outputs": [],
   "source": [
    "\n",
    "\n",
    "from underdogcowboy import agents\n",
    "\n",
    "def get_user_defined_agents():\n",
    "  \"\"\"\n",
    "  Returns a list of user-defined agents that have been loaded.\n",
    "\n",
    "  Args:\n",
    "    None\n",
    "\n",
    "  Returns:\n",
    "    list: A list of strings, each representing the name of a user-defined agent.\n",
    "  \"\"\"\n",
    "  user_defined_agents = []\n",
    "  for agent_name, agent_instance in agents.items():\n",
    "    if agent_instance.is_user_defined:\n",
    "      user_defined_agents.append(agent_name)\n",
    "  return user_defined_agents\n",
    "\n",
    "\n",
    "print(get_user_defined_agents())"
   ]
  },
  {
   "cell_type": "code",
   "execution_count": 3,
   "metadata": {},
   "outputs": [
    {
     "name": "stdout",
     "output_type": "stream",
     "text": [
      "[]\n"
     ]
    }
   ],
   "source": []
  },
  {
   "cell_type": "code",
   "execution_count": 1,
   "metadata": {},
   "outputs": [
    {
     "name": "stderr",
     "output_type": "stream",
     "text": [
      "DEBUG:underdogcowboy:Basic imports completed\n",
      "INFO:numexpr.utils:NumExpr defaulting to 8 threads.\n",
      "DEBUG:underdogcowboy:About to load agents\n",
      "DEBUG:underdogcowboy:Loading agents from package: underdogcowboy.agents\n",
      "DEBUG:underdogcowboy:Creating agent for new_language.json\n",
      "DEBUG:underdogcowboy:Creating agent for type_maker.json\n",
      "DEBUG:underdogcowboy:Creating agent for assessment_tester.json\n",
      "DEBUG:underdogcowboy:Creating agent for commit_promo.json\n",
      "DEBUG:underdogcowboy:Creating agent for test_agent.json\n",
      "DEBUG:underdogcowboy:Creating agent for test_agent_02.json\n",
      "DEBUG:underdogcowboy:Loaded 6 agents\n",
      "DEBUG:underdogcowboy:Adding agents to namespace\n",
      "DEBUG:underdogcowboy:Adding agent new_language to namespace\n",
      "DEBUG:underdogcowboy:Successfully added new_language\n",
      "DEBUG:underdogcowboy:Adding agent type_maker to namespace\n",
      "DEBUG:underdogcowboy:Successfully added type_maker\n",
      "DEBUG:underdogcowboy:Adding agent assessment_tester to namespace\n",
      "DEBUG:underdogcowboy:Successfully added assessment_tester\n",
      "DEBUG:underdogcowboy:Adding agent commit_promo to namespace\n",
      "DEBUG:underdogcowboy:Successfully added commit_promo\n",
      "DEBUG:underdogcowboy:Adding agent test_agent to namespace\n",
      "DEBUG:underdogcowboy:Successfully added test_agent\n",
      "DEBUG:underdogcowboy:Adding agent test_agent_02 to namespace\n",
      "DEBUG:underdogcowboy:Successfully added test_agent_02\n",
      "DEBUG:underdogcowboy:Finished adding agents to namespace\n",
      "DEBUG:keyring.backend:Loading KWallet\n",
      "DEBUG:keyring.backend:Loading SecretService\n",
      "DEBUG:keyring.backend:Loading Windows\n",
      "DEBUG:keyring.backend:Loading chainer\n",
      "DEBUG:keyring.backend:Loading libsecret\n",
      "DEBUG:keyring.backend:Loading macOS\n",
      "DEBUG:underdogcowboy:Updating __all__\n",
      "DEBUG:underdogcowboy:Finished updating __all__\n",
      "DEBUG:underdogcowboy:__init__.py execution completed\n"
     ]
    },
    {
     "name": "stdout",
     "output_type": "stream",
     "text": [
      "Creating AgentDialogManager\n",
      "google-vertex model initialized successfully.\n",
      "Interactive mode started.\n",
      "Timeline saved to /Users/reneluijk/.underdogcowboy/agents/test_agent_03.json with name 'test_agent_03' and description: 'A test agent'\n",
      "Agent saved to /Users/reneluijk/.underdogcowboy/agents/test_agent_03.json\n",
      "Test passed: Agent saved successfully!\n"
     ]
    }
   ],
   "source": [
    "import os\n",
    "import json\n",
    "import unittest.mock\n",
    "from  underdogcowboy import Timeline, CommandProcessor\n",
    "from underdogcowboy import ModelManager\n",
    "\n",
    "def test_save_agent():\n",
    "    \"\"\"\n",
    "    Creates a simple agent and saves it using the save_agent command.\n",
    "    \"\"\"\n",
    "\n",
    "    # Create a simple timeline with a few messages\n",
    "    timeline = Timeline()\n",
    "    timeline.add_message(\"user\", \"Hello there!\")\n",
    "    timeline.add_message(\"model\", \"Hi! How can I help you today?\")\n",
    "\n",
    "    # Initialize a model (replace 'claude-v1' with your actual model)\n",
    "    model = ModelManager.initialize_model(\"google-vertex\")\n",
    "\n",
    "    # Create a CommandProcessor with the timeline and model\n",
    "    processor = CommandProcessor(timeline, model)\n",
    "\n",
    "    # Simulate user input using unittest.mock\n",
    "    with unittest.mock.patch('builtins.input', side_effect=[\"test_agent_04\", \"A test agent\"]):\n",
    "        processor.save_agent()\n",
    "\n",
    "    # Check if the agent file was created\n",
    "    agents_dir = os.path.expanduser(\"~/.underdogcowboy/agents\")\n",
    "    agent_name = \"test_agent\"\n",
    "    file_path = os.path.join(agents_dir, f\"{agent_name}.json\")\n",
    "\n",
    "    assert os.path.exists(file_path), f\"Agent file not found at: {file_path}\"\n",
    "\n",
    "    # Load and verify the contents of the agent file\n",
    "    with open(file_path, \"r\") as f:\n",
    "        agent_data = json.load(f)\n",
    "\n",
    "    assert agent_data[\"metadata\"][\"name\"] == agent_name\n",
    "    assert len(agent_data[\"history\"]) == 2\n",
    "\n",
    "    print(\"Test passed: Agent saved successfully!\")\n",
    "\n",
    "if __name__ == \"__main__\":\n",
    "    test_save_agent()"
   ]
  }
 ],
 "metadata": {
  "kernelspec": {
   "display_name": "base",
   "language": "python",
   "name": "python3"
  },
  "language_info": {
   "codemirror_mode": {
    "name": "ipython",
    "version": 3
   },
   "file_extension": ".py",
   "mimetype": "text/x-python",
   "name": "python",
   "nbconvert_exporter": "python",
   "pygments_lexer": "ipython3",
   "version": "3.11.4"
  }
 },
 "nbformat": 4,
 "nbformat_minor": 2
}
