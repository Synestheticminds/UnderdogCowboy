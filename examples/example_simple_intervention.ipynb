{
 "cells": [
  {
   "cell_type": "code",
   "execution_count": null,
   "metadata": {},
   "outputs": [],
   "source": [
    "# !pip install -e ..\n",
    "# pip list -e | grep underdogcowboy"
   ]
  },
  {
   "cell_type": "markdown",
   "metadata": {},
   "source": [
    "The InterventionManager is a powerful tool that enhances the development and execution of dialog-based scripts, offering significant benefits for both developers and end-users:\n",
    "\n",
    "1. Iterative Development: In IDEs or IPython notebooks, the InterventionManager allows developers to pause script execution and interact with the dialog in real-time. This feature is invaluable for testing, debugging, and fine-tuning agent responses without the need to restart the entire script.\n",
    "\n",
    "2. Agent Tuning: Developers can use the intervention feature to explore different conversation paths, assess the agent's responses to various inputs, and make immediate adjustments to improve performance and accuracy.\n",
    "\n",
    "3. Human-in-the-Loop Functionality: For production scripts, the InterventionManager enables seamless integration of human oversight. This allows for real-time monitoring, intervention in complex scenarios, and the ability to guide conversations when needed, ensuring higher quality interactions and outcomes.\n",
    "\n",
    "4. Educational Tool: The InterventionManager serves as an excellent learning aid, allowing developers and researchers to gain insights into the decision-making processes of AI agents and experiment with different prompts or conversation strategies.\n",
    "\n",
    "5. Flexible Command Mode: The built-in command mode provides a powerful interface for developers to manipulate the dialog timeline, adjust model parameters, or execute custom commands during runtime, offering unparalleled control and flexibility.\n",
    "\n",
    "By incorporating the InterventionManager into your development workflow and final scripts, you can significantly enhance the quality, reliability, and adaptability of your dialog-based AI applications."
   ]
  },
  {
   "cell_type": "markdown",
   "metadata": {},
   "source": [
    "To showcase the intervention mechanism, we need a DialogManager and an InterventionManager "
   ]
  },
  {
   "cell_type": "code",
   "execution_count": null,
   "metadata": {},
   "outputs": [],
   "source": [
    "from underdogcowboy import DialogManager, InterventionManager"
   ]
  },
  {
   "cell_type": "code",
   "execution_count": null,
   "metadata": {},
   "outputs": [],
   "source": [
    "dm = DialogManager()\n",
    "# have a save dialog to load first.\n",
    "agent = dm.load_dialog('/Users/reneluijk/llm_dialogs/new language.json')"
   ]
  },
  {
   "cell_type": "code",
   "execution_count": null,
   "metadata": {},
   "outputs": [],
   "source": [
    "# simple test response\n",
    "response = dm.message(agent,\"test message, response can be short. lets say, one sentence\")\n",
    "response"
   ]
  },
  {
   "cell_type": "code",
   "execution_count": null,
   "metadata": {},
   "outputs": [],
   "source": [
    "# create instance of the intervention manager with our dialog manager as the input\n",
    "intervention_manager = InterventionManager(dm)"
   ]
  },
  {
   "cell_type": "code",
   "execution_count": null,
   "metadata": {},
   "outputs": [],
   "source": [
    "# actual make the intervention, so the developer/researcher can do their work.\n",
    "intervention_manager.intervene()"
   ]
  },
  {
   "cell_type": "code",
   "execution_count": null,
   "metadata": {},
   "outputs": [],
   "source": [
    "# show the last message from the intervention (if any)\n",
    "message = agent.timeline.history[len(agent.timeline.history)-1].text\n",
    "message"
   ]
  }
 ],
 "metadata": {
  "kernelspec": {
   "display_name": "base",
   "language": "python",
   "name": "python3"
  },
  "language_info": {
   "codemirror_mode": {
    "name": "ipython",
    "version": 3
   },
   "file_extension": ".py",
   "mimetype": "text/x-python",
   "name": "python",
   "nbconvert_exporter": "python",
   "pygments_lexer": "ipython3",
   "version": "3.11.4"
  }
 },
 "nbformat": 4,
 "nbformat_minor": 2
}
