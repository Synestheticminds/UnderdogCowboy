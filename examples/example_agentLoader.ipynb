{
 "cells": [
  {
   "cell_type": "code",
   "execution_count": null,
   "metadata": {},
   "outputs": [],
   "source": [
    "!pip install -e .."
   ]
  },
  {
   "cell_type": "code",
   "execution_count": 1,
   "metadata": {},
   "outputs": [],
   "source": [
    "import underdogcowboy"
   ]
  },
  {
   "cell_type": "code",
   "execution_count": 2,
   "metadata": {},
   "outputs": [
    {
     "ename": "ImportError",
     "evalue": "cannot import name 'language_agent' from 'underdogcowboy' (/Users/reneluijk/projects/UnderdogCowboy/underdogcowboy/__init__.py)",
     "output_type": "error",
     "traceback": [
      "\u001b[0;31m---------------------------------------------------------------------------\u001b[0m",
      "\u001b[0;31mImportError\u001b[0m                               Traceback (most recent call last)",
      "Cell \u001b[0;32mIn[2], line 1\u001b[0m\n\u001b[0;32m----> 1\u001b[0m \u001b[38;5;28;01mfrom\u001b[39;00m \u001b[38;5;21;01munderdogcowboy\u001b[39;00m \u001b[38;5;28;01mimport\u001b[39;00m language_agent\n\u001b[1;32m      3\u001b[0m \u001b[38;5;66;03m# Use the language_agent\u001b[39;00m\n\u001b[1;32m      4\u001b[0m \u001b[38;5;28mprint\u001b[39m(language_agent)\n",
      "\u001b[0;31mImportError\u001b[0m: cannot import name 'language_agent' from 'underdogcowboy' (/Users/reneluijk/projects/UnderdogCowboy/underdogcowboy/__init__.py)"
     ]
    }
   ],
   "source": [
    "from underdogcowboy import new_language\n",
    "\n",
    "# Use the language_agent\n",
    "print(new_language)\n",
    "print(new_language.content)"
   ]
  },
  {
   "cell_type": "code",
   "execution_count": null,
   "metadata": {},
   "outputs": [],
   "source": []
  }
 ],
 "metadata": {
  "kernelspec": {
   "display_name": "base",
   "language": "python",
   "name": "python3"
  },
  "language_info": {
   "codemirror_mode": {
    "name": "ipython",
    "version": 3
   },
   "file_extension": ".py",
   "mimetype": "text/x-python",
   "name": "python",
   "nbconvert_exporter": "python",
   "pygments_lexer": "ipython3",
   "version": "3.11.4"
  }
 },
 "nbformat": 4,
 "nbformat_minor": 2
}
