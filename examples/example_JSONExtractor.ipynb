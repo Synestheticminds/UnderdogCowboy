{
 "cells": [
  {
   "cell_type": "code",
   "execution_count": null,
   "metadata": {},
   "outputs": [],
   "source": [
    "# !pip install -e .."
   ]
  },
  {
   "cell_type": "code",
   "execution_count": 1,
   "metadata": {},
   "outputs": [
    {
     "name": "stderr",
     "output_type": "stream",
     "text": [
      "DEBUG:underdogcowboy:Basic imports completed\n",
      "INFO:numexpr.utils:NumExpr defaulting to 8 threads.\n",
      "DEBUG:underdogcowboy:About to load agents\n",
      "DEBUG:underdogcowboy:Loading agents from package: underdogcowboy.agents\n",
      "DEBUG:underdogcowboy:Creating agent for new_language.json\n",
      "DEBUG:underdogcowboy:Creating agent for type_maker.json\n",
      "DEBUG:underdogcowboy:Creating agent for assessment_tester.json\n",
      "DEBUG:underdogcowboy:Creating agent for commit_promo.json\n",
      "DEBUG:underdogcowboy:Creating agent for gitbookdoc.json\n",
      "DEBUG:underdogcowboy:Creating agent for agent_assessment.json\n",
      "DEBUG:underdogcowboy:Creating agent for test_agent.json\n",
      "DEBUG:underdogcowboy:Creating agent for testrene.json\n",
      "DEBUG:underdogcowboy:Creating agent for test_agent_04.json\n",
      "DEBUG:underdogcowboy:Creating agent for test_agent_03.json\n",
      "DEBUG:underdogcowboy:Creating agent for test_agent_02.json\n",
      "DEBUG:underdogcowboy:Loaded 11 agents\n",
      "DEBUG:underdogcowboy:Adding agents to namespace\n",
      "DEBUG:underdogcowboy:Adding agent new_language to namespace\n",
      "DEBUG:underdogcowboy:Successfully added new_language\n",
      "DEBUG:underdogcowboy:Adding agent type_maker to namespace\n",
      "DEBUG:underdogcowboy:Successfully added type_maker\n",
      "DEBUG:underdogcowboy:Adding agent assessment_tester to namespace\n",
      "DEBUG:underdogcowboy:Successfully added assessment_tester\n",
      "DEBUG:underdogcowboy:Adding agent commit_promo to namespace\n",
      "DEBUG:underdogcowboy:Successfully added commit_promo\n",
      "DEBUG:underdogcowboy:Adding agent gitbookdoc to namespace\n",
      "DEBUG:underdogcowboy:Successfully added gitbookdoc\n",
      "DEBUG:underdogcowboy:Adding agent agent_assessment to namespace\n",
      "DEBUG:underdogcowboy:Successfully added agent_assessment\n",
      "DEBUG:underdogcowboy:Adding agent test_agent to namespace\n",
      "DEBUG:underdogcowboy:Successfully added test_agent\n",
      "DEBUG:underdogcowboy:Adding agent testrene to namespace\n",
      "DEBUG:underdogcowboy:Successfully added testrene\n",
      "DEBUG:underdogcowboy:Adding agent test_agent_04 to namespace\n",
      "DEBUG:underdogcowboy:Successfully added test_agent_04\n",
      "DEBUG:underdogcowboy:Adding agent test_agent_03 to namespace\n",
      "DEBUG:underdogcowboy:Successfully added test_agent_03\n",
      "DEBUG:underdogcowboy:Adding agent test_agent_02 to namespace\n",
      "DEBUG:underdogcowboy:Successfully added test_agent_02\n",
      "DEBUG:underdogcowboy:Finished adding agents to namespace\n",
      "DEBUG:keyring.backend:Loading KWallet\n",
      "DEBUG:keyring.backend:Loading SecretService\n",
      "DEBUG:keyring.backend:Loading Windows\n",
      "DEBUG:keyring.backend:Loading chainer\n",
      "DEBUG:keyring.backend:Loading libsecret\n",
      "DEBUG:keyring.backend:Loading macOS\n",
      "DEBUG:underdogcowboy:Updating __all__\n",
      "DEBUG:underdogcowboy:Finished updating __all__\n",
      "DEBUG:underdogcowboy:__init__.py execution completed\n"
     ]
    },
    {
     "name": "stdout",
     "output_type": "stream",
     "text": [
      "Creating AgentDialogManager\n",
      "Extracted JSON data:\n",
      "{'name': 'John Doe', 'age': 30, 'city': 'New York', 'is_student': False}\n",
      "\n",
      "Inspection data:\n",
      "{'number_of_keys': 4, 'keys': ['name', 'age', 'city', 'is_student'], 'values_presence': {'name': True, 'age': True, 'city': True, 'is_student': True}, 'keys_match': True}\n",
      "\n",
      "Is the extracted data correct? True\n",
      "No deviations found.\n"
     ]
    }
   ],
   "source": [
    "\n",
    "from underdogcowboy import JSONExtractor\n",
    "\n",
    "# Now, let's create a sample text with JSON embedded in it\n",
    "sample_text = \"\"\"\n",
    "This is some random text.\n",
    "Here's our JSON data:\n",
    "{\"name\": \"John Doe\", \"age\": 30, \"city\": \"New York\", \"is_student\": false}\n",
    "And here's some more text after the JSON.\n",
    "\"\"\"\n",
    "\n",
    "# Define the expected keys\n",
    "expected_keys = [\"name\", \"age\", \"city\", \"is_student\"]\n",
    "\n",
    "# Create an instance of JSONExtractor\n",
    "extractor = JSONExtractor(sample_text, expected_keys)\n",
    "\n",
    "# Extract and parse the JSON\n",
    "json_data, inspection_data = extractor.extract_and_parse_json()\n",
    "\n",
    "# Print the results\n",
    "print(\"Extracted JSON data:\")\n",
    "print(json_data)\n",
    "print(\"\\nInspection data:\")\n",
    "print(inspection_data)\n",
    "\n",
    "# Define expected inspection data\n",
    "expected_inspection_data = {\n",
    "    'number_of_keys': 4,\n",
    "    'keys': [\"name\", \"age\", \"city\", \"is_student\"],\n",
    "    'values_presence': {\"name\": True, \"age\": True, \"city\": True, \"is_student\": True},\n",
    "    'keys_match': True\n",
    "}\n",
    "\n",
    "# Check the inspection data against the expected data\n",
    "is_correct, deviations = extractor.check_inspection_data(expected_inspection_data)\n",
    "\n",
    "print(\"\\nIs the extracted data correct?\", is_correct)\n",
    "if not is_correct:\n",
    "    print(\"Deviations found:\")\n",
    "    print(deviations)\n",
    "else:\n",
    "    print(\"No deviations found.\")"
   ]
  }
 ],
 "metadata": {
  "kernelspec": {
   "display_name": "base",
   "language": "python",
   "name": "python3"
  },
  "language_info": {
   "codemirror_mode": {
    "name": "ipython",
    "version": 3
   },
   "file_extension": ".py",
   "mimetype": "text/x-python",
   "name": "python",
   "nbconvert_exporter": "python",
   "pygments_lexer": "ipython3",
   "version": "3.11.4"
  }
 },
 "nbformat": 4,
 "nbformat_minor": 2
}
