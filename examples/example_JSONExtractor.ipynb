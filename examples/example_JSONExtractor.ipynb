{
 "cells": [
  {
   "cell_type": "code",
   "execution_count": null,
   "metadata": {},
   "outputs": [],
   "source": [
    "# !pip install -e .."
   ]
  },
  {
   "cell_type": "code",
   "execution_count": 2,
   "metadata": {},
   "outputs": [
    {
     "name": "stdout",
     "output_type": "stream",
     "text": [
      "Extracted JSON data:\n",
      "{'name': 'John Doe', 'age': 30, 'city': 'New York', 'is_student': False}\n",
      "\n",
      "Inspection data:\n",
      "{'number_of_keys': 4, 'keys': ['name', 'age', 'city', 'is_student'], 'values_presence': {'name': True, 'age': True, 'city': True, 'is_student': True}, 'keys_match': True}\n",
      "\n",
      "Is the extracted data correct? True\n",
      "No deviations found.\n"
     ]
    }
   ],
   "source": [
    "\n",
    "from underdogcowboy import JSONExtractor\n",
    "\n",
    "# Now, let's create a sample text with JSON embedded in it\n",
    "sample_text = \"\"\"\n",
    "This is some random text.\n",
    "Here's our JSON data:\n",
    "{\"name\": \"John Doe\", \"age\": 30, \"city\": \"New York\", \"is_student\": false}\n",
    "And here's some more text after the JSON.\n",
    "\"\"\"\n",
    "\n",
    "# Define the expected keys\n",
    "expected_keys = [\"name\", \"age\", \"city\", \"is_student\"]\n",
    "\n",
    "# Create an instance of JSONExtractor\n",
    "extractor = JSONExtractor(sample_text, expected_keys)\n",
    "\n",
    "# Extract and parse the JSON\n",
    "json_data, inspection_data = extractor.extract_and_parse_json()\n",
    "\n",
    "# Print the results\n",
    "print(\"Extracted JSON data:\")\n",
    "print(json_data)\n",
    "print(\"\\nInspection data:\")\n",
    "print(inspection_data)\n",
    "\n",
    "# Define expected inspection data\n",
    "expected_inspection_data = {\n",
    "    'number_of_keys': 4,\n",
    "    'keys': [\"name\", \"age\", \"city\", \"is_student\"],\n",
    "    'values_presence': {\"name\": True, \"age\": True, \"city\": True, \"is_student\": True},\n",
    "    'keys_match': True\n",
    "}\n",
    "\n",
    "# Check the inspection data against the expected data\n",
    "is_correct, deviations = extractor.check_inspection_data(expected_inspection_data)\n",
    "\n",
    "print(\"\\nIs the extracted data correct?\", is_correct)\n",
    "if not is_correct:\n",
    "    print(\"Deviations found:\")\n",
    "    print(deviations)\n",
    "else:\n",
    "    print(\"No deviations found.\")"
   ]
  }
 ],
 "metadata": {
  "kernelspec": {
   "display_name": "base",
   "language": "python",
   "name": "python3"
  },
  "language_info": {
   "codemirror_mode": {
    "name": "ipython",
    "version": 3
   },
   "file_extension": ".py",
   "mimetype": "text/x-python",
   "name": "python",
   "nbconvert_exporter": "python",
   "pygments_lexer": "ipython3",
   "version": "3.11.4"
  }
 },
 "nbformat": 4,
 "nbformat_minor": 2
}
