{
 "cells": [
  {
   "cell_type": "code",
   "execution_count": 3,
   "metadata": {},
   "outputs": [
    {
     "name": "stdout",
     "output_type": "stream",
     "text": [
      "{\n",
      "    \"$schema\": \"https://aka.ms/codetour-schema\",\n",
      "    \"title\": \"Understanding the Dialog Manager\",\n",
      "    \"steps\": [\n",
      "        {\n",
      "            \"file\": \"dialog_manager.py\",\n",
      "            \"description\": \"The `DialogManager` is an abstract base class that provides the foundation for managing conversations.\",\n",
      "            \"line\": 14\n",
      "        },\n",
      "        {\n",
      "            \"file\": \"dialog_manager.py\",\n",
      "            \"description\": \"The `__new__` method determines which concrete DialogManager class to instantiate: `BasicDialogManager` or `AgentDialogManager`.\",\n",
      "            \"line\": 27\n",
      "        },\n",
      "        {\n",
      "            \"file\": \"dialog_manager.py\",\n",
      "            \"description\": \"These magic methods allow you to activate and deactivate intervention mode using the `+` and `-` operators respectively.\",\n",
      "            \"line\": 36\n",
      "        },\n",
      "        {\n",
      "            \"file\": \"dialog_manager.py\",\n",
      "            \"description\": \"The `message` method is abstract and needs to be implemented by subclasses to handle incoming messages.\",\n",
      "            \"line\": 66\n",
      "        },\n",
      "        {\n",
      "            \"file\": \"dialog_manager.py\",\n",
      "            \"description\": \"The `BasicDialogManager` is a concrete implementation for managing basic dialogs without agents.\",\n",
      "            \"line\": 70\n",
      "        },\n",
      "        {\n",
      "            \"file\": \"dialog_manager.py\",\n",
      "            \"description\": \"The `AgentDialogManager` is designed to manage conversations involving multiple agents.\",\n",
      "            \"line\": 124\n",
      "        }\n",
      "    ]\n",
      "}\n"
     ]
    }
   ],
   "source": [
    "import json\n",
    "\n",
    "def replace_line_with_number(tour_file, code_file):\n",
    "    \"\"\"\n",
    "    Replaces the 'line' value in the tour JSON with the actual line number from the code file.\n",
    "\n",
    "    Args:\n",
    "        tour_file (str): Path to the JSON tour file.\n",
    "        code_file (str): Path to the original Python code file.\n",
    "\n",
    "    Returns:\n",
    "        dict: The modified tour JSON data.\n",
    "    \"\"\"\n",
    "    with open(tour_file, 'r') as f:\n",
    "        tour_data = json.load(f)\n",
    "\n",
    "    with open(code_file, 'r') as f:\n",
    "        code_lines = f.readlines()\n",
    "\n",
    "    for step in tour_data['steps']:\n",
    "        line_text = step['line'].strip()  # Remove leading/trailing whitespace\n",
    "        for i, code_line in enumerate(code_lines):\n",
    "            if code_line.strip().startswith(line_text):  # Compare stripped versions\n",
    "                step['line'] = i + 1  # Line numbers are 1-indexed\n",
    "                break\n",
    "        else:\n",
    "            print(f\"Warning: Could not find line '{line_text}' in {code_file}\")\n",
    "\n",
    "    return tour_data\n",
    "\n",
    "\n",
    "if __name__ == \"__main__\":\n",
    "    tour_file = \"tour.json\"  # Replace with the actual tour file path\n",
    "    code_file = \"/Users/reneluijk/projects/UnderdogCowboy/underdogcowboy/core/dialog_manager.py\"  # Replace with the actual code file path\n",
    "\n",
    "    modified_tour = replace_line_with_number(tour_file, code_file)\n",
    "\n",
    "    print(json.dumps(modified_tour, indent=4))"
   ]
  }
 ],
 "metadata": {
  "kernelspec": {
   "display_name": "base",
   "language": "python",
   "name": "python3"
  },
  "language_info": {
   "codemirror_mode": {
    "name": "ipython",
    "version": 3
   },
   "file_extension": ".py",
   "mimetype": "text/x-python",
   "name": "python",
   "nbconvert_exporter": "python",
   "pygments_lexer": "ipython3",
   "version": "3.11.4"
  }
 },
 "nbformat": 4,
 "nbformat_minor": 2
}
