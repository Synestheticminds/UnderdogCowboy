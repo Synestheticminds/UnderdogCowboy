{
 "cells": [
  {
   "cell_type": "markdown",
   "metadata": {},
   "source": [
    "# Local storage of the configuration"
   ]
  },
  {
   "cell_type": "code",
   "execution_count": 1,
   "metadata": {},
   "outputs": [
    {
     "name": "stderr",
     "output_type": "stream",
     "text": [
      "INFO:numexpr.utils:NumExpr defaulting to 8 threads.\n"
     ]
    },
    {
     "name": "stdout",
     "output_type": "stream",
     "text": [
      "Creating AgentDialogManager\n",
      "tracing config: {'use_langsmith': 'yes', 'langsmith_api_key': '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'}\n"
     ]
    },
    {
     "data": {
      "text/plain": [
       "{'google-vertex': {'service_account': '/Users/reneluijk/projects/UnderdogCowboy/Timeline_Editor_SA_IAM.json',\n",
       "  'project_id': 'prefab-axis-420101',\n",
       "  'location': 'us-central1',\n",
       "  'model_id': 'gemini-1.5-pro-preview-0514',\n",
       "  'configured': True},\n",
       " 'anthropic': {'api_key': 'KEYRING_STORED',\n",
       "  'model_id': 'claude-3-5-sonnet-20240620',\n",
       "  'api_url': 'https://api.anthropic.com/v1/messages',\n",
       "  'anthropic_version': '2023-06-01',\n",
       "  'configured': True},\n",
       " 'general': {'dialog_save_path': '/Users/reneluijk/llm_dialogs',\n",
       "  'message_export_path': '/Users/reneluijk/llm_exports',\n",
       "  'configured': True},\n",
       " 'groq': {'api_key': 'KEYRING_STORED',\n",
       "  'model_id': 'llama3-8b-8192',\n",
       "  'configured': True},\n",
       " 'tracing': {'use_langsmith': 'yes',\n",
       "  'langsmith_api_key': 'KEYRING_STORED',\n",
       "  'configured': True}}"
      ]
     },
     "execution_count": 1,
     "metadata": {},
     "output_type": "execute_result"
    }
   ],
   "source": [
    "from underdogcowboy import LLMConfigManager\n",
    "cm = LLMConfigManager()\n",
    "config = cm.load_config()\n",
    "config"
   ]
  },
  {
   "cell_type": "markdown",
   "metadata": {},
   "source": [
    "# Check tracing set"
   ]
  },
  {
   "cell_type": "code",
   "execution_count": 6,
   "metadata": {},
   "outputs": [
    {
     "name": "stdout",
     "output_type": "stream",
     "text": [
      "Creating AgentDialogManager\n",
      "tracing config: {'use_langsmith': 'yes', 'langsmith_api_key': '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'}\n",
      "Available models:\n",
      "1. anthropic\n",
      "2. google-vertex\n",
      "3. groq\n",
      "google-vertex model initialized successfully.\n",
      "Timeline loaded from None, starting in interactive mode with current position at index 5.\n",
      "Interactive mode started.\n"
     ]
    },
    {
     "data": {
      "text/plain": [
       "<underdogcowboy.core.tracing.NoOpTracer at 0x1723241d0>"
      ]
     },
     "execution_count": 6,
     "metadata": {},
     "output_type": "execute_result"
    }
   ],
   "source": [
    "from underdogcowboy import AgentDialogManager, type_maker\n",
    "adm = AgentDialogManager([type_maker],use_tracing=False)\n",
    "adm.tracer.tracer"
   ]
  },
  {
   "cell_type": "code",
   "execution_count": 10,
   "metadata": {},
   "outputs": [
    {
     "data": {
      "text/plain": [
       "<underdogcowboy.core.tracing.TracingProxy at 0x172385e90>"
      ]
     },
     "execution_count": 10,
     "metadata": {},
     "output_type": "execute_result"
    }
   ],
   "source": [
    "adm.config_manager.get_tracing_proxy()"
   ]
  },
  {
   "cell_type": "code",
   "execution_count": null,
   "metadata": {},
   "outputs": [],
   "source": []
  }
 ],
 "metadata": {
  "kernelspec": {
   "display_name": "base",
   "language": "python",
   "name": "python3"
  },
  "language_info": {
   "codemirror_mode": {
    "name": "ipython",
    "version": 3
   },
   "file_extension": ".py",
   "mimetype": "text/x-python",
   "name": "python",
   "nbconvert_exporter": "python",
   "pygments_lexer": "ipython3",
   "version": "3.11.4"
  }
 },
 "nbformat": 4,
 "nbformat_minor": 2
}
