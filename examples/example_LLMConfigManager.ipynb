{
 "cells": [
  {
   "cell_type": "code",
   "execution_count": null,
   "metadata": {},
   "outputs": [],
   "source": [
    "# !pip install -e ..\n",
    "# pip list -e | grep underdogcowboy"
   ]
  },
  {
   "cell_type": "markdown",
   "metadata": {},
   "source": [
    "{\"google-vertex\": {\"service_account\": \"/Users/reneluijk/projects/UnderdogCowboy/Timeline_Editor_SA_IAM.json\", \"project_id\": \"prefab-axis-420101\", \"location\": \"us-central1\", \"model_id\": \"gemini-1.5-pro-preview-0514\", \"configured\": true}, \"anthropic\": {\"api_key\": \"KEYRING_STORED\", \"model_id\": \"claude-3-sonnet-20240229\", \"api_url\": \"https://api.anthropic.com/v1/messages\", \"anthropic_version\": \"2023-06-01\", \"configured\": true}, \"general\": {\"dialog_save_path\": \"/Users/reneluijk/llm_dialogs\", \"message_export_path\": \"/Users/reneluijk/llm_exports\", \"configured\": true}, \"groq\": {\"api_key\": \"KEYRING_STORED\", \"model_id\": \"llama3-8b-8192\", \"configured\": true}}"
   ]
  },
  {
   "cell_type": "code",
   "execution_count": 2,
   "metadata": {},
   "outputs": [
    {
     "name": "stderr",
     "output_type": "stream",
     "text": [
      "DEBUG:underdogcowboy:Basic imports completed\n",
      "INFO:numexpr.utils:NumExpr defaulting to 8 threads.\n",
      "DEBUG:underdogcowboy:About to load agents\n",
      "DEBUG:underdogcowboy:Loading agents from package: underdogcowboy.agents\n",
      "DEBUG:underdogcowboy:Creating agent for new_language.json\n",
      "DEBUG:underdogcowboy:Creating agent for type_maker.json\n",
      "DEBUG:underdogcowboy:Creating agent for assessment_tester.json\n",
      "DEBUG:underdogcowboy:Creating agent for commit_promo.json\n",
      "DEBUG:underdogcowboy:Creating agent for gitbookdoc.json\n",
      "DEBUG:underdogcowboy:Creating agent for agent_assessment.json\n",
      "DEBUG:underdogcowboy:Creating agent for test_agent.json\n",
      "DEBUG:underdogcowboy:Creating agent for testrene.json\n",
      "DEBUG:underdogcowboy:Creating agent for test_agent_04.json\n",
      "DEBUG:underdogcowboy:Creating agent for test_agent_03.json\n",
      "DEBUG:underdogcowboy:Creating agent for test_agent_02.json\n",
      "DEBUG:underdogcowboy:Loaded 11 agents\n",
      "DEBUG:underdogcowboy:Adding agents to namespace\n",
      "DEBUG:underdogcowboy:Adding agent new_language to namespace\n",
      "DEBUG:underdogcowboy:Successfully added new_language\n",
      "DEBUG:underdogcowboy:Adding agent type_maker to namespace\n",
      "DEBUG:underdogcowboy:Successfully added type_maker\n",
      "DEBUG:underdogcowboy:Adding agent assessment_tester to namespace\n",
      "DEBUG:underdogcowboy:Successfully added assessment_tester\n",
      "DEBUG:underdogcowboy:Adding agent commit_promo to namespace\n",
      "DEBUG:underdogcowboy:Successfully added commit_promo\n",
      "DEBUG:underdogcowboy:Adding agent gitbookdoc to namespace\n",
      "DEBUG:underdogcowboy:Successfully added gitbookdoc\n",
      "DEBUG:underdogcowboy:Adding agent agent_assessment to namespace\n",
      "DEBUG:underdogcowboy:Successfully added agent_assessment\n",
      "DEBUG:underdogcowboy:Adding agent test_agent to namespace\n",
      "DEBUG:underdogcowboy:Successfully added test_agent\n",
      "DEBUG:underdogcowboy:Adding agent testrene to namespace\n",
      "DEBUG:underdogcowboy:Successfully added testrene\n",
      "DEBUG:underdogcowboy:Adding agent test_agent_04 to namespace\n",
      "DEBUG:underdogcowboy:Successfully added test_agent_04\n",
      "DEBUG:underdogcowboy:Adding agent test_agent_03 to namespace\n",
      "DEBUG:underdogcowboy:Successfully added test_agent_03\n",
      "DEBUG:underdogcowboy:Adding agent test_agent_02 to namespace\n",
      "DEBUG:underdogcowboy:Successfully added test_agent_02\n",
      "DEBUG:underdogcowboy:Finished adding agents to namespace\n",
      "DEBUG:keyring.backend:Loading KWallet\n",
      "DEBUG:keyring.backend:Loading SecretService\n",
      "DEBUG:keyring.backend:Loading Windows\n",
      "DEBUG:keyring.backend:Loading chainer\n",
      "DEBUG:keyring.backend:Loading libsecret\n",
      "DEBUG:keyring.backend:Loading macOS\n",
      "DEBUG:underdogcowboy:Updating __all__\n",
      "DEBUG:underdogcowboy:Finished updating __all__\n",
      "DEBUG:underdogcowboy:__init__.py execution completed\n"
     ]
    },
    {
     "name": "stdout",
     "output_type": "stream",
     "text": [
      "Creating AgentDialogManager\n"
     ]
    }
   ],
   "source": [
    "from underdogcowboy import LLMConfigManager\n"
   ]
  },
  {
   "cell_type": "code",
   "execution_count": 4,
   "metadata": {},
   "outputs": [
    {
     "name": "stdout",
     "output_type": "stream",
     "text": [
      "Initial credentials: claude-3-sonnet-20240229\n",
      "Updated model_id for anthropic.\n",
      "Final credentials: claude-3-5-sonnet-20240620\n"
     ]
    }
   ],
   "source": [
    "config_manager = LLMConfigManager()\n",
    "\n",
    "creds = config_manager.get_credentials('anthropic')\n",
    "print(f\"Initial credentials: {creds['model_id']}\")\n",
    "\n",
    "config_manager.update_model_property('anthropic', 'model_id', 'claude-3-5-sonnet-20240620')\n",
    "creds = config_manager.get_credentials('anthropic')  # Get updated credentials again\n",
    "print(f\"Final credentials: {creds['model_id']}\")\n",
    "\n"
   ]
  },
  {
   "cell_type": "code",
   "execution_count": 13,
   "metadata": {},
   "outputs": [
    {
     "name": "stdout",
     "output_type": "stream",
     "text": [
      "Removed configuration for groq.\n",
      "Anthropic model configuration removed successfully.\n",
      "Error: Model 'non_existent_model' does not exist in the configuration.\n"
     ]
    }
   ],
   "source": [
    "config_manager = LLMConfigManager()\n",
    "try:\n",
    "    # Remove the configuration for the 'anthropic' model\n",
    "    config_manager.remove_model_config('groq')\n",
    "    print(\"Anthropic model configuration removed successfully.\")\n",
    "\n",
    "    # Try to remove a non-existent model\n",
    "    config_manager.remove_model_config('non_existent_model')\n",
    "except ValueError as e:\n",
    "    print(f\"Error: {e}\")\n",
    "\n",
    "# Output:\n",
    "# Removed configuration for anthropic.\n",
    "# Anthropic model configuration removed successfully.\n",
    "# Error: Model 'non_existent_model' does not exist in the configuration."
   ]
  },
  {
   "cell_type": "code",
   "execution_count": null,
   "metadata": {},
   "outputs": [],
   "source": [
    "config_manager = LLMConfigManager()\n",
    "try:\n",
    "    # Update the 'model_id' for the 'google-vertex' model\n",
    "    config_manager.update_model_property('google-vertex', 'model_id', 'gemini-1.5-pro-latest')\n",
    "    print(\"Google Vertex model ID updated successfully.\")\n",
    "\n",
    "    # Update the 'api_key' for the 'groq' model\n",
    "    new_api_key = \"grk_new_api_key_12345\"\n",
    "    config_manager.update_model_property('groq', 'api_key', new_api_key)\n",
    "    print(\"Groq API key updated successfully.\")\n",
    "\n",
    "    # Try to update a non-existent property\n",
    "    config_manager.update_model_property('anthropic', 'non_existent_prop', 'some_value')\n",
    "except ValueError as e:\n",
    "    print(f\"Error: {e}\")\n",
    "\n",
    "# Output:\n",
    "# Updated model_id for google-vertex.\n",
    "# Google Vertex model ID updated successfully.\n",
    "# Updated api_key for groq.\n",
    "# Groq API key updated successfully.\n",
    "# Error: Property 'non_existent_prop' does not exist for model 'anthropic'."
   ]
  }
 ],
 "metadata": {
  "kernelspec": {
   "display_name": "base",
   "language": "python",
   "name": "python3"
  },
  "language_info": {
   "codemirror_mode": {
    "name": "ipython",
    "version": 3
   },
   "file_extension": ".py",
   "mimetype": "text/x-python",
   "name": "python",
   "nbconvert_exporter": "python",
   "pygments_lexer": "ipython3",
   "version": "3.11.4"
  }
 },
 "nbformat": 4,
 "nbformat_minor": 2
}
