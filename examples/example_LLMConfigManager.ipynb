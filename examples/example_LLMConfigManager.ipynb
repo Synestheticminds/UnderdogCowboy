{
 "cells": [
  {
   "cell_type": "code",
   "execution_count": null,
   "metadata": {},
   "outputs": [],
   "source": [
    "# !pip install -e ..\n",
    "# pip list -e | grep underdogcowboy"
   ]
  },
  {
   "cell_type": "code",
   "execution_count": null,
   "metadata": {},
   "outputs": [],
   "source": [
    "from underdogcowboy import LLMConfigManager\n"
   ]
  },
  {
   "cell_type": "code",
   "execution_count": null,
   "metadata": {},
   "outputs": [],
   "source": [
    "config_manager = LLMConfigManager()\n",
    "try:\n",
    "    # Remove the configuration for the 'anthropic' model\n",
    "    config_manager.remove_model_config('anthropic')\n",
    "    print(\"Anthropic model configuration removed successfully.\")\n",
    "\n",
    "    # Try to remove a non-existent model\n",
    "    config_manager.remove_model_config('non_existent_model')\n",
    "except ValueError as e:\n",
    "    print(f\"Error: {e}\")\n",
    "\n",
    "# Output:\n",
    "# Removed configuration for anthropic.\n",
    "# Anthropic model configuration removed successfully.\n",
    "# Error: Model 'non_existent_model' does not exist in the configuration."
   ]
  },
  {
   "cell_type": "code",
   "execution_count": null,
   "metadata": {},
   "outputs": [],
   "source": [
    "config_manager = LLMConfigManager()\n",
    "try:\n",
    "    # Update the 'model_id' for the 'google-vertex' model\n",
    "    config_manager.update_model_property('google-vertex', 'model_id', 'gemini-1.5-pro-latest')\n",
    "    print(\"Google Vertex model ID updated successfully.\")\n",
    "\n",
    "    # Update the 'api_key' for the 'groq' model\n",
    "    new_api_key = \"grk_new_api_key_12345\"\n",
    "    config_manager.update_model_property('groq', 'api_key', new_api_key)\n",
    "    print(\"Groq API key updated successfully.\")\n",
    "\n",
    "    # Try to update a non-existent property\n",
    "    config_manager.update_model_property('anthropic', 'non_existent_prop', 'some_value')\n",
    "except ValueError as e:\n",
    "    print(f\"Error: {e}\")\n",
    "\n",
    "# Output:\n",
    "# Updated model_id for google-vertex.\n",
    "# Google Vertex model ID updated successfully.\n",
    "# Updated api_key for groq.\n",
    "# Groq API key updated successfully.\n",
    "# Error: Property 'non_existent_prop' does not exist for model 'anthropic'."
   ]
  }
 ],
 "metadata": {
  "language_info": {
   "name": "python"
  }
 },
 "nbformat": 4,
 "nbformat_minor": 2
}
