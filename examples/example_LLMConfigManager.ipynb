{
 "cells": [
  {
   "cell_type": "code",
   "execution_count": null,
   "metadata": {},
   "outputs": [],
   "source": [
    "# !pip install -e ..\n",
    "# pip list -e | grep underdogcowboy"
   ]
  },
  {
   "cell_type": "markdown",
   "metadata": {},
   "source": [
    "{\"google-vertex\": {\"service_account\": \"/Users/reneluijk/projects/UnderdogCowboy/Timeline_Editor_SA_IAM.json\", \"project_id\": \"prefab-axis-420101\", \"location\": \"us-central1\", \"model_id\": \"gemini-1.5-pro-preview-0514\", \"configured\": true}, \"anthropic\": {\"api_key\": \"KEYRING_STORED\", \"model_id\": \"claude-3-sonnet-20240229\", \"api_url\": \"https://api.anthropic.com/v1/messages\", \"anthropic_version\": \"2023-06-01\", \"configured\": true}, \"general\": {\"dialog_save_path\": \"/Users/reneluijk/llm_dialogs\", \"message_export_path\": \"/Users/reneluijk/llm_exports\", \"configured\": true}, \"groq\": {\"api_key\": \"KEYRING_STORED\", \"model_id\": \"llama3-8b-8192\", \"configured\": true}}"
   ]
  },
  {
   "cell_type": "code",
   "execution_count": 10,
   "metadata": {},
   "outputs": [],
   "source": [
    "from underdogcowboy import LLMConfigManager\n"
   ]
  },
  {
   "cell_type": "code",
   "execution_count": 12,
   "metadata": {},
   "outputs": [
    {
     "name": "stdout",
     "output_type": "stream",
     "text": [
      "Initial credentials: claude-3-sonnet-20240229\n",
      "Updated model_id for anthropic.\n",
      "Updated credentials: modeldummyid\n",
      "Updated model_id for anthropic.\n",
      "Final credentials: claude-3-sonnet-20240229\n"
     ]
    }
   ],
   "source": [
    "config_manager = LLMConfigManager()\n",
    "\n",
    "creds = config_manager.get_credentials('anthropic')\n",
    "print(f\"Initial credentials: {creds['model_id']}\")\n",
    "\n",
    "config_manager.update_model_property('anthropic', 'model_id', 'modeldummyid')\n",
    "creds = config_manager.get_credentials('anthropic')  # Get updated credentials\n",
    "print(f\"Updated credentials: {creds['model_id']}\")\n",
    "\n",
    "config_manager.update_model_property('anthropic', 'model_id', 'claude-3-sonnet-20240229')\n",
    "creds = config_manager.get_credentials('anthropic')  # Get updated credentials again\n",
    "print(f\"Final credentials: {creds['model_id']}\")\n",
    "\n"
   ]
  },
  {
   "cell_type": "code",
   "execution_count": 13,
   "metadata": {},
   "outputs": [
    {
     "name": "stdout",
     "output_type": "stream",
     "text": [
      "Removed configuration for groq.\n",
      "Anthropic model configuration removed successfully.\n",
      "Error: Model 'non_existent_model' does not exist in the configuration.\n"
     ]
    }
   ],
   "source": [
    "config_manager = LLMConfigManager()\n",
    "try:\n",
    "    # Remove the configuration for the 'anthropic' model\n",
    "    config_manager.remove_model_config('groq')\n",
    "    print(\"Anthropic model configuration removed successfully.\")\n",
    "\n",
    "    # Try to remove a non-existent model\n",
    "    config_manager.remove_model_config('non_existent_model')\n",
    "except ValueError as e:\n",
    "    print(f\"Error: {e}\")\n",
    "\n",
    "# Output:\n",
    "# Removed configuration for anthropic.\n",
    "# Anthropic model configuration removed successfully.\n",
    "# Error: Model 'non_existent_model' does not exist in the configuration."
   ]
  },
  {
   "cell_type": "code",
   "execution_count": null,
   "metadata": {},
   "outputs": [],
   "source": [
    "config_manager = LLMConfigManager()\n",
    "try:\n",
    "    # Update the 'model_id' for the 'google-vertex' model\n",
    "    config_manager.update_model_property('google-vertex', 'model_id', 'gemini-1.5-pro-latest')\n",
    "    print(\"Google Vertex model ID updated successfully.\")\n",
    "\n",
    "    # Update the 'api_key' for the 'groq' model\n",
    "    new_api_key = \"grk_new_api_key_12345\"\n",
    "    config_manager.update_model_property('groq', 'api_key', new_api_key)\n",
    "    print(\"Groq API key updated successfully.\")\n",
    "\n",
    "    # Try to update a non-existent property\n",
    "    config_manager.update_model_property('anthropic', 'non_existent_prop', 'some_value')\n",
    "except ValueError as e:\n",
    "    print(f\"Error: {e}\")\n",
    "\n",
    "# Output:\n",
    "# Updated model_id for google-vertex.\n",
    "# Google Vertex model ID updated successfully.\n",
    "# Updated api_key for groq.\n",
    "# Groq API key updated successfully.\n",
    "# Error: Property 'non_existent_prop' does not exist for model 'anthropic'."
   ]
  }
 ],
 "metadata": {
  "kernelspec": {
   "display_name": "base",
   "language": "python",
   "name": "python3"
  },
  "language_info": {
   "codemirror_mode": {
    "name": "ipython",
    "version": 3
   },
   "file_extension": ".py",
   "mimetype": "text/x-python",
   "name": "python",
   "nbconvert_exporter": "python",
   "pygments_lexer": "ipython3",
   "version": "3.11.4"
  }
 },
 "nbformat": 4,
 "nbformat_minor": 2
}
