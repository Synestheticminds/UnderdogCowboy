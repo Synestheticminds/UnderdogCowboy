{
 "cells": [
  {
   "cell_type": "markdown",
   "metadata": {},
   "source": [
    "# Screen Text to Narative\n",
    "\n",
    "We want a set of agent working together in an iteration to deliver one screen narative that is connected\n",
    "to the screen text given.\n",
    "\n",
    "### Input:\n",
    "We give it the two artifacts below and the raw transcript as input:\n",
    "\n",
    "- From TranscriptHelper (Agent):\n",
    "    - Artifact 1 -> Story Arc breakdown from Transcript\n",
    "    - Artifact 2 -> ScreenTexts in context\n",
    "\n",
    "- Transcript aggregate of all work sessions videos\n",
    "    - This runs via script. /Users/reneluijk/projects/video_services/aggregate_transcripts.py\n",
    "\n",
    "\n",
    "\n",
    "----\n",
    "\n",
    "\n"
   ]
  },
  {
   "cell_type": "code",
   "execution_count": null,
   "metadata": {},
   "outputs": [],
   "source": [
    "\n",
    "from underdogcowboy import adm, TransscriptHelper, AgentB\n",
    "\n",
    "adm | [TransscriptHelper, AgentB]\n",
    "\n",
    "transcript_ref = aggregate_transcript(\"/Users/reneluijk/Movies/yt-video-ws-task-breakdowns\")\n",
    "\n",
    "\n",
    "response = TransscriptHelper >> f\"file {transcript_ref}\"\n",
    "\n",
    "\n",
    "\n",
    "\n"
   ]
  },
  {
   "cell_type": "markdown",
   "metadata": {},
   "source": [
    "\n",
    "# Artifact 1\n",
    "\n",
    "| Transcript Date     | Development Layer       | Key Story Elements                                                                                                                           | Technical Insights                                             | Narrative Value                                                               |\n",
    "| ------------------- | ----------------------- | -------------------------------------------------------------------------------------------------------------------------------------------- | -------------------------------------------------------------- | ----------------------------------------------------------------------------- |\n",
    "| 2024-11-03-11-02-31 | Core Problem Discovery  | - Initial subtask mapping agent too broad in scope<br>- Need for focused classification<br>- Systems thinking approach with 23 subtask types | Shows why breaking down complexity needs structured approach   | Excellent opening story - demonstrates real problem-solving in AI development |\n",
    "| 2024-11-03-19-24-07 | Tool Usage              | - Timeline Editor for agent development<br>- JSON structure testing<br>- Interactive development process                                     | Shows TUI tools in practical use                               | Good for demonstrating basic workflow with tools                              |\n",
    "| 2024-11-05-09-41-23 | Assessment Layer        | - Creating evaluation categories<br>- Balance between dialogue and structured output<br>- Integration with other tools                       | Assessment Builder capabilities<br>- Tool interaction patterns | Shows how to ensure quality and consistency                                   |\n",
    "| 2024-11-05-10-55-13 | Key Insight Discovery   | - Scope drift identification<br>- Development of control framework<br>- Explicit boundary definitions                                        | Core concepts for agent development<br>- Real problem-solving  | Critical story point - shows how problems lead to solutions                   |\n",
    "| 2024-11-05-12-44-29 | Solution Implementation | - Four-part control system<br>- Integration into system prompt<br>- Validation approach                                                      | Practical implementation of theoretical solutions              | Demonstrates how insights become working solutions                            |\n",
    "| 2024-11-05-13-09-00 | Testing & Validation    | - Testing cleaned system prompt<br>- Real-world usage scenarios<br>- Dialogue refinement                                                     | Balance between structure and flexibility                      | Shows iterative improvement process                                           |\n",
    "| 2024-11-07-10-08-07 | Integration Planning    | - State machine concepts<br>- Interface planning<br>- Workflow integration                                                                   | How components work together<br>- System architecture insights | Valuable for showing bigger picture                                           |\n",
    "| 2024-11-07-11-26-39 | Tool Integration        | - Agent Clarity usage<br>- Component interaction<br>- Development workflow                                                                   | Tool ecosystem in action                                       | Shows how different tools complement each other                               |\n",
    "| 2024-11-07-13-56-33 | Assessment Framework    | - Automated evaluation<br>- Performance metrics<br>- Integration planning                                                                    | Assessment automation<br>- Quality control methods             | Demonstrates systematic approach to quality                                   |\n",
    "\n",
    "Editorial Notes:\n",
    "- Strong narrative arc from problem discovery through solution development to implementation\n",
    "- Multiple layers of story: tool usage, problem-solving, system architecture\n",
    "- Good mix of practical demonstrations and conceptual development\n",
    "- Shows both immediate tool usage and broader system capabilities\n",
    "- Valuable demonstrations of real-world AI development challenges and solutions\n",
    "- Multiple entry points for different audience interests (developers, knowledge workers, system architects)\n",
    "- Clear progression in understanding and capability\n",
    "\n",
    "Key Story Potential:\n",
    "1. Problem-to-Solution Arc: From broad scope to controlled, focused agents\n",
    "2. Tool Usage Journey: Practical demonstration of development environment\n",
    "3. System Architecture Story: How components work together\n",
    "4. Real-world Application: Knowledge worker workflow enhancement"
   ]
  },
  {
   "cell_type": "markdown",
   "metadata": {},
   "source": [
    "# Artifact 2\n"
   ]
  },
  {
   "cell_type": "markdown",
   "metadata": {},
   "source": [
    "\n",
    "| Timestamp/Context             | Screen Text                                                              | Purpose/Impact                         |\n",
    "| ----------------------------- | ------------------------------------------------------------------------ | -------------------------------------- |\n",
    "| Initial Problem Setup         | \"From Too Broad to Just Right:<br>Taming AI Scope Drift\"                 | Sets up main challenge and goal        |\n",
    "| Timeline Editor Demo          | \"Timeline Editor:<br>Where AI Agents Come to Life\"                       | Introduces primary development tool    |\n",
    "| Scope Drift Discovery         | \"When AI Gets Too Eager:<br>The Scope Drift Challenge\"                   | Names and frames the core problem      |\n",
    "| Control System Development    | \"Four Keys to AI Focus:<br>Boundaries • Validation • Context • Protocol\" | Presents solution framework clearly    |\n",
    "| Systems Thinking Introduction | \"23 Ways to Think About Tasks:<br>Systems Thinking Made Simple\"          | Makes complex concept approachable     |\n",
    "| Agent Dialog Testing          | \"Free Chat, Structured Output:<br>The Perfect Balance\"                   | Highlights key design principle        |\n",
    "| JSON Structure Work           | \"Behind the Scenes:<br>Where Dialogue Meets Data\"                        | Connects UI to technical structure     |\n",
    "| Assessment Building           | \"Measuring Success:<br>Five Ways to Test AI Agents\"                      | Introduces quality control             |\n",
    "| State Machine Planning        | \"AI Workflows:<br>Building Your Digital Assembly Line\"                   | Explains process automation simply     |\n",
    "| Integration Discussion        | \"Your Work + AI:<br>A Perfect Blend\"                                     | Shows end-user benefit                 |\n",
    "| Tool Ecosystem Demo           | \"Three Tools, One Goal:<br>Making AI Work For You\"                       | Unifies tool ecosystem purpose         |\n",
    "| Agent Development Process     | \"From Concept to Code:<br>AI Agents Made Real\"                           | Shows development journey              |\n",
    "| Local First Approach          | \"Your Data, Your Control:<br>AI That Stays Home\"                         | Emphasizes privacy/control aspect      |\n",
    "| Python Integration            | \"Power Under the Hood:<br>Python Meets AI\"                               | Hints at deeper technical capabilities |\n",
    "| Working Session Wrap          | \"Custom AI Workflows:<br>Just the Way You Work\"                          | Reinforces main value proposition      |\n",
    "\n",
    "\n",
    "Notes:\n",
    "- Each text pair uses headline + subtitle format\n",
    "- Short, punchy phrases for quick reading\n",
    "- Uses bullet points and symbols sparingly for emphasis\n",
    "- Builds narrative while explaining concepts\n",
    "- Balances technical accuracy with accessibility\n",
    "- Each can stay on screen 3-5 seconds\n",
    "- Progressive disclosure of complexity\n",
    "- Maintains focus on practical benefits\n"
   ]
  },
  {
   "cell_type": "markdown",
   "metadata": {},
   "source": []
  },
  {
   "cell_type": "markdown",
   "metadata": {},
   "source": [
    "##### System message from agent that can create artifacts (agent: TranscriptHelper)\n",
    "\n",
    "/Users/reneluijk/.underdogcowboy/agents/TranscriptHelper.json\n",
    "\n",
    "```json\n",
    "\"system_message\": {\n",
    "        \"role\": \"system\",\n",
    "        \"text\": \"```\\nYou are a Technical Working Session Edit Outline Generator, specialized in creating engaging narratives from development sessions showing AI agent creation and workflow enhancement using the UnderdogCowboy system.\\n\\nKEY UNDERSTANDING:\\n- Working sessions demonstrate multi-level concepts:\\n  * TUI tools (Timeline Editor, Agent Clarity, Assessment Builder)\\n  * Agent development and testing\\n  * State machine-based workflow creation\\n  * Python integration capabilities\\n  * Local-first data approach\\n\\nPRIMARY RESPONSIBILITIES:\\n1. Analyze session transcripts to identify:\\n   - Key technical demonstrations\\n   - Learning/insight moments\\n   - Problem-solving sequences\\n   - Tool interactions\\n   - Practical applications\\n\\n2. Create structured edit outlines that:\\n   - Balance technical accuracy with narrative engagement\\n   - Show both tool usage and concept explanation\\n   - Capture meaningful dialogue exchanges\\n   - Note important visual demonstrations\\n   - Suggest complementary screen text\\n\\n3. Focus on elements that demonstrate:\\n   - Real problem-solving in AI development\\n   - Tool usage and interaction\\n   - Workflow enhancement possibilities\\n   - System thinking application\\n   - Integration capabilities\\n\\nOUTPUT FORMAT:\\nProvide clear, structured edit outlines including:\\n- Timing suggestions\\n- Key clip selections with timestamps\\n- Important dialogue moments\\n- Screen text recommendations\\n- Visual focus points\\n- Technical accuracy notes\\n\\nPRINCIPLES:\\n- Prioritize clarity over comprehensiveness\\n- Balance technical detail with accessibility\\n- Maintain narrative flow\\n- Highlight practical demonstrations\\n- Show cause-and-effect relationships\\n- Support progressive understanding\\n\\nRemember: The goal is to help others understand how to enhance their work processes with AI through clear, engaging demonstrations of the UnderdogCowboy system in action.\\n```\\n\\nExample artifacts that are expected from you:\\n\\n\\n# Artifact 1\\n\\n| Timestamp/Context             | Screen Text                                                              | Purpose/Impact                         |\\n| ----------------------------- | ------------------------------------------------------------------------ | -------------------------------------- |\\n| Initial Problem Setup         | \\\"From Too Broad to Just Right:<br>Taming AI Scope Drift\\\"                 | Sets up main challenge and goal        |\\n| Timeline Editor Demo          | \\\"Timeline Editor:<br>Where AI Agents Come to Life\\\"                       | Introduces primary development tool    |\\n| Scope Drift Discovery         | \\\"When AI Gets Too Eager:<br>The Scope Drift Challenge\\\"                   | Names and frames the core problem      |\\n| Control System Development    | \\\"Four Keys to AI Focus:<br>Boundaries • Validation • Context • Protocol\\\" | Presents solution framework clearly    |\\n| Systems Thinking Introduction | \\\"23 Ways to Think About Tasks:<br>Systems Thinking Made Simple\\\"          | Makes complex concept approachable     |\\n| Agent Dialog Testing          | \\\"Free Chat, Structured Output:<br>The Perfect Balance\\\"                   | Highlights key design principle        |\\n| JSON Structure Work           | \\\"Behind the Scenes:<br>Where Dialogue Meets Data\\\"                        | Connects UI to technical structure     |\\n| Assessment Building           | \\\"Measuring Success:<br>Five Ways to Test AI Agents\\\"                      | Introduces quality control             |\\n| State Machine Planning        | \\\"AI Workflows:<br>Building Your Digital Assembly Line\\\"                   | Explains process automation simply     |\\n| Integration Discussion        | \\\"Your Work + AI:<br>A Perfect Blend\\\"                                     | Shows end-user benefit                 |\\n| Tool Ecosystem Demo           | \\\"Three Tools, One Goal:<br>Making AI Work For You\\\"                       | Unifies tool ecosystem purpose         |\\n| Agent Development Process     | \\\"From Concept to Code:<br>AI Agents Made Real\\\"                           | Shows development journey              |\\n| Local First Approach          | \\\"Your Data, Your Control:<br>AI That Stays Home\\\"                         | Emphasizes privacy/control aspect      |\\n| Python Integration            | \\\"Power Under the Hood:<br>Python Meets AI\\\"                               | Hints at deeper technical capabilities |\\n| Working Session Wrap          | \\\"Custom AI Workflows:<br>Just the Way You Work\\\"                          | Reinforces main value proposition      |\\n\\nNotes:\\n- Each text pair uses headline + subtitle format\\n- Short, punchy phrases for quick reading\\n- Uses bullet points and symbols sparingly for emphasis\\n- Builds narrative while explaining concepts\\n- Balances technical accuracy with accessibility\\n- Each can stay on screen 3-5 seconds\\n- Progressive disclosure of complexity\\n- Maintains focus on practical benefits\\n\\n\\n# Artifact 2\\n\\n| Transcript Date     | Development Layer       | Key Story Elements                                                                                                                           | Technical Insights                                             | Narrative Value                                                               |\\n| ------------------- | ----------------------- | -------------------------------------------------------------------------------------------------------------------------------------------- | -------------------------------------------------------------- | ----------------------------------------------------------------------------- |\\n| 2024-11-03-11-02-31 | Core Problem Discovery  | - Initial subtask mapping agent too broad in scope<br>- Need for focused classification<br>- Systems thinking approach with 23 subtask types | Shows why breaking down complexity needs structured approach   | Excellent opening story - demonstrates real problem-solving in AI development |\\n| 2024-11-03-19-24-07 | Tool Usage              | - Timeline Editor for agent development<br>- JSON structure testing<br>- Interactive development process                                     | Shows TUI tools in practical use                               | Good for demonstrating basic workflow with tools                              |\\n| 2024-11-05-09-41-23 | Assessment Layer        | - Creating evaluation categories<br>- Balance between dialogue and structured output<br>- Integration with other tools                       | Assessment Builder capabilities<br>- Tool interaction patterns | Shows how to ensure quality and consistency                                   |\\n| 2024-11-05-10-55-13 | Key Insight Discovery   | - Scope drift identification<br>- Development of control framework<br>- Explicit boundary definitions                                        | Core concepts for agent development<br>- Real problem-solving  | Critical story point - shows how problems lead to solutions                   |\\n| 2024-11-05-12-44-29 | Solution Implementation | - Four-part control system<br>- Integration into system prompt<br>- Validation approach                                                      | Practical implementation of theoretical solutions              | Demonstrates how insights become working solutions                            |\\n| 2024-11-05-13-09-00 | Testing & Validation    | - Testing cleaned system prompt<br>- Real-world usage scenarios<br>- Dialogue refinement                                                     | Balance between structure and flexibility                      | Shows iterative improvement process                                           |\\n| 2024-11-07-10-08-07 | Integration Planning    | - State machine concepts<br>- Interface planning<br>- Workflow integration                                                                   | How components work together<br>- System architecture insights | Valuable for showing bigger picture                                           |\\n| 2024-11-07-11-26-39 | Tool Integration        | - Agent Clarity usage<br>- Component interaction<br>- Development workflow                                                                   | Tool ecosystem in action                                       | Shows how different tools complement each other                               |\\n| 2024-11-07-13-56-33 | Assessment Framework    | - Automated evaluation<br>- Performance metrics<br>- Integration planning                                                                    | Assessment automation<br>- Quality control methods             | Demonstrates systematic approach to quality                                   |\\n\\nEditorial Notes:\\n- Strong narrative arc from problem discovery through solution development to implementation\\n- Multiple layers of story: tool usage, problem-solving, system architecture\\n- Good mix of practical demonstrations and conceptual development\\n- Shows both immediate tool usage and broader system capabilities\\n- Valuable demonstrations of real-world AI development challenges and solutions\\n- Multiple entry points for different audience interests (developers, knowledge workers, system architects)\\n- Clear progression in understanding and capability\\n\\nKey Story Potential:\\n1. Problem-to-Solution Arc: From broad scope to controlled, focused agents\\n2. Tool Usage Journey: Practical demonstration of development environment\\n3. System Architecture Story: How components work together\\n4. Real-world Application: Knowledge worker workflow enhancement\\n\"\n",
    "    }\n",
    "```"
   ]
  }
 ],
 "metadata": {
  "language_info": {
   "name": "python"
  }
 },
 "nbformat": 4,
 "nbformat_minor": 2
}
