{
 "cells": [
  {
   "cell_type": "code",
   "execution_count": 1,
   "metadata": {},
   "outputs": [
    {
     "name": "stderr",
     "output_type": "stream",
     "text": [
      "INFO:underdogcowboy:loading core...\n",
      "INFO:numexpr.utils:NumExpr defaulting to 8 threads.\n"
     ]
    },
    {
     "name": "stdout",
     "output_type": "stream",
     "text": [
      "Available providers:\n",
      "1. anthropic\n",
      "2. google-vertex\n",
      "3. groq\n",
      "\n",
      "Available models for anthropic:\n",
      "1. Claude 3.5 Sonnet (claude-3-5-sonnet-20240620)\n",
      "2. Claude 3 Opus (claude-3-opus-20240229)\n",
      "3. Claude 3 Sonnet (claude-3-sonnet-20240229)\n",
      "4. Claude 3 Haiku (claude-3-haiku-20240307)\n"
     ]
    },
    {
     "ename": "ValueError",
     "evalue": "Model '('anthropic', 'claude-3-5-sonnet-20240620')' not found in any provider's list.",
     "output_type": "error",
     "traceback": [
      "\u001b[0;31m---------------------------------------------------------------------------\u001b[0m",
      "\u001b[0;31mValueError\u001b[0m                                Traceback (most recent call last)",
      "Cell \u001b[0;32mIn[1], line 4\u001b[0m\n\u001b[1;32m      1\u001b[0m \u001b[38;5;28;01mfrom\u001b[39;00m \u001b[38;5;21;01munderdogcowboy\u001b[39;00m \u001b[38;5;28;01mimport\u001b[39;00m adm, agentclarity, assessmentbuilder\n\u001b[1;32m      3\u001b[0m \u001b[38;5;66;03m# Dialog manager, with our two meta helpers\u001b[39;00m\n\u001b[0;32m----> 4\u001b[0m adm \u001b[38;5;241m|\u001b[39m [agentclarity,assessmentbuilder]\n",
      "File \u001b[0;32m~/projects/UnderdogCowboy/underdogcowboy/core/dialog_manager.py:152\u001b[0m, in \u001b[0;36mAgentDialogManager.__or__\u001b[0;34m(self, agents)\u001b[0m\n\u001b[1;32m    149\u001b[0m     \u001b[38;5;28;01mraise\u001b[39;00m \u001b[38;5;167;01mTypeError\u001b[39;00m(\u001b[38;5;124mf\u001b[39m\u001b[38;5;124m\"\u001b[39m\u001b[38;5;124mExpected Agent subclass or instance, got \u001b[39m\u001b[38;5;132;01m{\u001b[39;00m\u001b[38;5;28mtype\u001b[39m(agent_input)\u001b[38;5;132;01m}\u001b[39;00m\u001b[38;5;124m\"\u001b[39m)\n\u001b[1;32m    151\u001b[0m \u001b[38;5;66;03m# Register the agent with this dialog manager\u001b[39;00m\n\u001b[0;32m--> 152\u001b[0m agent\u001b[38;5;241m.\u001b[39mregister_with_dialog_manager(\u001b[38;5;28mself\u001b[39m)\n\u001b[1;32m    153\u001b[0m \u001b[38;5;28mself\u001b[39m\u001b[38;5;241m.\u001b[39mprepare_agent(agent)\n\u001b[1;32m    154\u001b[0m \u001b[38;5;28mself\u001b[39m\u001b[38;5;241m.\u001b[39magents\u001b[38;5;241m.\u001b[39mappend(agent)\n",
      "File \u001b[0;32m~/projects/UnderdogCowboy/underdogcowboy/core/agent.py:122\u001b[0m, in \u001b[0;36mAgent.register_with_dialog_manager\u001b[0;34m(self, dialog_manager)\u001b[0m\n\u001b[1;32m    120\u001b[0m \u001b[38;5;28;01mif\u001b[39;00m \u001b[38;5;28mself\u001b[39m\u001b[38;5;241m.\u001b[39mdialog_manager \u001b[38;5;241m!=\u001b[39m dialog_manager:\n\u001b[1;32m    121\u001b[0m     \u001b[38;5;28mself\u001b[39m\u001b[38;5;241m.\u001b[39mdialog_manager \u001b[38;5;241m=\u001b[39m dialog_manager\n\u001b[0;32m--> 122\u001b[0m     \u001b[38;5;28mself\u001b[39m\u001b[38;5;241m.\u001b[39mdialog_manager\u001b[38;5;241m.\u001b[39mprepare_agent(\u001b[38;5;28mself\u001b[39m)\n",
      "File \u001b[0;32m~/projects/UnderdogCowboy/underdogcowboy/core/dialog_manager.py:164\u001b[0m, in \u001b[0;36mAgentDialogManager.prepare_agent\u001b[0;34m(self, agent)\u001b[0m\n\u001b[1;32m    161\u001b[0m \u001b[38;5;28;01mif\u001b[39;00m \u001b[38;5;129;01mnot\u001b[39;00m \u001b[38;5;28mhasattr\u001b[39m(\u001b[38;5;28mself\u001b[39m, \u001b[38;5;124m'\u001b[39m\u001b[38;5;124mmodel_name\u001b[39m\u001b[38;5;124m'\u001b[39m) \u001b[38;5;129;01mor\u001b[39;00m \u001b[38;5;28mself\u001b[39m\u001b[38;5;241m.\u001b[39mmodel_name \u001b[38;5;129;01mis\u001b[39;00m \u001b[38;5;28;01mNone\u001b[39;00m:\n\u001b[1;32m    162\u001b[0m     \u001b[38;5;28mself\u001b[39m\u001b[38;5;241m.\u001b[39mmodel_name \u001b[38;5;241m=\u001b[39m \u001b[38;5;28mself\u001b[39m\u001b[38;5;241m.\u001b[39mconfig_manager\u001b[38;5;241m.\u001b[39mselect_model()\n\u001b[0;32m--> 164\u001b[0m provider \u001b[38;5;241m=\u001b[39m \u001b[38;5;28mself\u001b[39m\u001b[38;5;241m.\u001b[39mconfig_manager\u001b[38;5;241m.\u001b[39mget_provider_from_model(\u001b[38;5;28mself\u001b[39m\u001b[38;5;241m.\u001b[39mmodel_name)    \n\u001b[1;32m    165\u001b[0m model \u001b[38;5;241m=\u001b[39m ModelManager\u001b[38;5;241m.\u001b[39minitialize_model_with_id(provider,\u001b[38;5;28mself\u001b[39m\u001b[38;5;241m.\u001b[39mmodel_name)\n\u001b[1;32m    166\u001b[0m timeline \u001b[38;5;241m=\u001b[39m Timeline()\n",
      "File \u001b[0;32m~/projects/UnderdogCowboy/underdogcowboy/core/config_manager.py:102\u001b[0m, in \u001b[0;36mLLMConfigManager.get_provider_from_model\u001b[0;34m(self, model_name)\u001b[0m\n\u001b[1;32m     99\u001b[0m     \u001b[38;5;28;01mif\u001b[39;00m provider \u001b[38;5;129;01min\u001b[39;00m \u001b[38;5;28mself\u001b[39m\u001b[38;5;241m.\u001b[39mmodels:\n\u001b[1;32m    100\u001b[0m         \u001b[38;5;28;01mreturn\u001b[39;00m provider\n\u001b[0;32m--> 102\u001b[0m \u001b[38;5;28;01mraise\u001b[39;00m \u001b[38;5;167;01mValueError\u001b[39;00m(\u001b[38;5;124mf\u001b[39m\u001b[38;5;124m\"\u001b[39m\u001b[38;5;124mModel \u001b[39m\u001b[38;5;124m'\u001b[39m\u001b[38;5;132;01m{\u001b[39;00mmodel_name\u001b[38;5;132;01m}\u001b[39;00m\u001b[38;5;124m'\u001b[39m\u001b[38;5;124m not found in any provider\u001b[39m\u001b[38;5;124m'\u001b[39m\u001b[38;5;124ms list.\u001b[39m\u001b[38;5;124m\"\u001b[39m)\n",
      "\u001b[0;31mValueError\u001b[0m: Model '('anthropic', 'claude-3-5-sonnet-20240620')' not found in any provider's list."
     ]
    }
   ],
   "source": [
    "from underdogcowboy import adm, agentclarity, assessmentbuilder\n",
    "\n",
    "# Dialog manager, with our two meta helpers\n",
    "adm | [agentclarity,assessmentbuilder]"
   ]
  },
  {
   "cell_type": "code",
   "execution_count": null,
   "metadata": {},
   "outputs": [],
   "source": []
  }
 ],
 "metadata": {
  "kernelspec": {
   "display_name": "base",
   "language": "python",
   "name": "python3"
  },
  "language_info": {
   "codemirror_mode": {
    "name": "ipython",
    "version": 3
   },
   "file_extension": ".py",
   "mimetype": "text/x-python",
   "name": "python",
   "nbconvert_exporter": "python",
   "pygments_lexer": "ipython3",
   "version": "3.11.4"
  }
 },
 "nbformat": 4,
 "nbformat_minor": 2
}
