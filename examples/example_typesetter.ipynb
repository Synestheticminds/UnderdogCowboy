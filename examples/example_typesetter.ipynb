{
 "cells": [
  {
   "cell_type": "code",
   "execution_count": null,
   "metadata": {},
   "outputs": [],
   "source": [
    "# sample path for typesetting: /Users/reneluijk/projects/UnderdogCowboy/underdogcowboy/core/extractor.py\n",
    "!pip install -e ..\n"
   ]
  },
  {
   "cell_type": "code",
   "execution_count": null,
   "metadata": {},
   "outputs": [],
   "source": [
    "from underdogcowboy import DialogManager\n"
   ]
  },
  {
   "cell_type": "code",
   "execution_count": 1,
   "metadata": {},
   "outputs": [
    {
     "name": "stderr",
     "output_type": "stream",
     "text": [
      "DEBUG:underdogcowboy:Basic imports completed\n",
      "INFO:numexpr.utils:NumExpr defaulting to 8 threads.\n",
      "DEBUG:underdogcowboy:About to load agents\n",
      "DEBUG:underdogcowboy:Loading agents from package: underdogcowboy.agents\n",
      "DEBUG:underdogcowboy:Creating agent for new_language.json\n",
      "DEBUG:underdogcowboy:Creating agent for type_maker.json\n",
      "DEBUG:underdogcowboy:Creating agent for commit_promo.json\n",
      "DEBUG:underdogcowboy:Loaded 3 agents\n",
      "DEBUG:underdogcowboy:Adding agents to namespace\n",
      "DEBUG:underdogcowboy:Adding agent new_language to namespace\n",
      "DEBUG:underdogcowboy:Successfully added new_language\n",
      "DEBUG:underdogcowboy:Adding agent type_maker to namespace\n",
      "DEBUG:underdogcowboy:Successfully added type_maker\n",
      "DEBUG:underdogcowboy:Adding agent commit_promo to namespace\n",
      "DEBUG:underdogcowboy:Successfully added commit_promo\n",
      "DEBUG:underdogcowboy:Finished adding agents to namespace\n",
      "DEBUG:underdogcowboy:Updating __all__\n",
      "DEBUG:underdogcowboy:Finished updating __all__\n",
      "DEBUG:underdogcowboy:__init__.py execution completed\n"
     ]
    },
    {
     "name": "stdout",
     "output_type": "stream",
     "text": [
      "Error executing command: git checkout -b changetest-extractor.py\n",
      "fatal: a branch named 'changetest-extractor.py' already exists\n",
      "\n"
     ]
    },
    {
     "ename": "SystemExit",
     "evalue": "1",
     "output_type": "error",
     "traceback": [
      "An exception has occurred, use %tb to see the full traceback.\n",
      "\u001b[0;31mSystemExit\u001b[0m\u001b[0;31m:\u001b[0m 1\n"
     ]
    },
    {
     "name": "stderr",
     "output_type": "stream",
     "text": [
      "/Users/reneluijk/anaconda3/lib/python3.11/site-packages/IPython/core/interactiveshell.py:3513: UserWarning: To exit: use 'exit', 'quit', or Ctrl-D.\n",
      "  warn(\"To exit: use 'exit', 'quit', or Ctrl-D.\", stacklevel=1)\n"
     ]
    }
   ],
   "source": [
    "from underdogcowboy import type_maker, DialogManager\n",
    "\n",
    "# our repository\n",
    "repo_path = \"/Users/reneluijk/projects/UnderdogCowboy\"\n",
    "# The file we want the LLM to type with nice type definitions on the methods and variables.\n",
    "file_path = \"underdogcowboy/core/extractor.py\"\n",
    "\n",
    "# This file needs to be created from the LLM response\n",
    "changed_file_path = \"/Users/reneluijk/projects/UnderdogCowboy/test_change.py\"\n",
    "\n",
    "type_maker.create_typed_diff(repo_path, file_path)\n",
    "#type_maker.git_diff_workflow(repo_path, file_path, changed_file_path)\n",
    "\n"
   ]
  }
 ],
 "metadata": {
  "kernelspec": {
   "display_name": "base",
   "language": "python",
   "name": "python3"
  },
  "language_info": {
   "codemirror_mode": {
    "name": "ipython",
    "version": 3
   },
   "file_extension": ".py",
   "mimetype": "text/x-python",
   "name": "python",
   "nbconvert_exporter": "python",
   "pygments_lexer": "ipython3",
   "version": "3.11.4"
  }
 },
 "nbformat": 4,
 "nbformat_minor": 2
}
