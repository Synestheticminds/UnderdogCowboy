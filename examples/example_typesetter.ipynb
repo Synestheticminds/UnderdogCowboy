{
 "cells": [
  {
   "cell_type": "code",
   "execution_count": 5,
   "metadata": {},
   "outputs": [
    {
     "name": "stdout",
     "output_type": "stream",
     "text": [
      "Obtaining file:///Users/reneluijk/projects/UnderdogCowboy\n",
      "  Installing build dependencies ... \u001b[?25ldone\n",
      "\u001b[?25h  Checking if build backend supports build_editable ... \u001b[?25ldone\n",
      "\u001b[?25h  Getting requirements to build editable ... \u001b[?25ldone\n",
      "\u001b[?25h  Preparing editable metadata (pyproject.toml) ... \u001b[?25ldone\n",
      "\u001b[?25hRequirement already satisfied: vertexai in /Users/reneluijk/anaconda3/lib/python3.11/site-packages (from underdogcowboy==0.1.12) (1.49.0)\n",
      "Requirement already satisfied: prompt-toolkit in /Users/reneluijk/anaconda3/lib/python3.11/site-packages (from underdogcowboy==0.1.12) (3.0.36)\n",
      "Requirement already satisfied: keyring in /Users/reneluijk/anaconda3/lib/python3.11/site-packages (from underdogcowboy==0.1.12) (23.13.1)\n",
      "Requirement already satisfied: groq in /Users/reneluijk/anaconda3/lib/python3.11/site-packages (from underdogcowboy==0.1.12) (0.9.0)\n",
      "Collecting langsmith (from underdogcowboy==0.1.12)\n",
      "  Obtaining dependency information for langsmith from https://files.pythonhosted.org/packages/a4/e3/3e8bc3aa0d714dd7bc2dfa3e595a4b79d7a1cda0cdcdac2d5b8cf9e4b21a/langsmith-0.1.96-py3-none-any.whl.metadata\n",
      "  Downloading langsmith-0.1.96-py3-none-any.whl.metadata (13 kB)\n",
      "Requirement already satisfied: anyio<5,>=3.5.0 in /Users/reneluijk/anaconda3/lib/python3.11/site-packages (from groq->underdogcowboy==0.1.12) (3.5.0)\n",
      "Requirement already satisfied: distro<2,>=1.7.0 in /Users/reneluijk/anaconda3/lib/python3.11/site-packages (from groq->underdogcowboy==0.1.12) (1.8.0)\n",
      "Requirement already satisfied: httpx<1,>=0.23.0 in /Users/reneluijk/anaconda3/lib/python3.11/site-packages (from groq->underdogcowboy==0.1.12) (0.25.2)\n",
      "Requirement already satisfied: pydantic<3,>=1.9.0 in /Users/reneluijk/anaconda3/lib/python3.11/site-packages (from groq->underdogcowboy==0.1.12) (2.4.2)\n",
      "Requirement already satisfied: sniffio in /Users/reneluijk/anaconda3/lib/python3.11/site-packages (from groq->underdogcowboy==0.1.12) (1.2.0)\n",
      "Requirement already satisfied: typing-extensions<5,>=4.7 in /Users/reneluijk/anaconda3/lib/python3.11/site-packages (from groq->underdogcowboy==0.1.12) (4.9.0)\n",
      "Requirement already satisfied: jaraco.classes in /Users/reneluijk/anaconda3/lib/python3.11/site-packages (from keyring->underdogcowboy==0.1.12) (3.2.1)\n",
      "Requirement already satisfied: importlib-metadata>=4.11.4 in /Users/reneluijk/anaconda3/lib/python3.11/site-packages (from keyring->underdogcowboy==0.1.12) (6.0.0)\n",
      "Collecting orjson<4.0.0,>=3.9.14 (from langsmith->underdogcowboy==0.1.12)\n",
      "  Obtaining dependency information for orjson<4.0.0,>=3.9.14 from https://files.pythonhosted.org/packages/c2/88/9b7f032f11eef88e56559fb7d8fff70dbc43b95de4acd0b43acf1b235034/orjson-3.10.6-cp311-cp311-macosx_10_15_x86_64.macosx_11_0_arm64.macosx_10_15_universal2.whl.metadata\n",
      "  Downloading orjson-3.10.6-cp311-cp311-macosx_10_15_x86_64.macosx_11_0_arm64.macosx_10_15_universal2.whl.metadata (50 kB)\n",
      "\u001b[2K     \u001b[90m━━━━━━━━━━━━━━━━━━━━━━━━━━━━━━━━━━━━━━━\u001b[0m \u001b[32m50.4/50.4 kB\u001b[0m \u001b[31m359.1 kB/s\u001b[0m eta \u001b[36m0:00:00\u001b[0ma \u001b[36m0:00:01\u001b[0m\n",
      "\u001b[?25hRequirement already satisfied: requests<3,>=2 in /Users/reneluijk/anaconda3/lib/python3.11/site-packages (from langsmith->underdogcowboy==0.1.12) (2.31.0)\n",
      "Requirement already satisfied: wcwidth in /Users/reneluijk/anaconda3/lib/python3.11/site-packages (from prompt-toolkit->underdogcowboy==0.1.12) (0.2.5)\n",
      "Requirement already satisfied: google-cloud-aiplatform[all]==1.49.0 in /Users/reneluijk/anaconda3/lib/python3.11/site-packages (from vertexai->underdogcowboy==0.1.12) (1.49.0)\n",
      "\u001b[33mWARNING: google-cloud-aiplatform 1.49.0 does not provide the extra 'all'\u001b[0m\u001b[33m\n",
      "\u001b[0mRequirement already satisfied: google-api-core[grpc]!=2.0.*,!=2.1.*,!=2.2.*,!=2.3.*,!=2.4.*,!=2.5.*,!=2.6.*,!=2.7.*,<3.0.0dev,>=1.34.1 in /Users/reneluijk/anaconda3/lib/python3.11/site-packages (from google-cloud-aiplatform[all]==1.49.0->vertexai->underdogcowboy==0.1.12) (2.19.0)\n",
      "Requirement already satisfied: google-auth<3.0.0dev,>=2.14.1 in /Users/reneluijk/anaconda3/lib/python3.11/site-packages (from google-cloud-aiplatform[all]==1.49.0->vertexai->underdogcowboy==0.1.12) (2.29.0)\n",
      "Requirement already satisfied: proto-plus<2.0.0dev,>=1.22.0 in /Users/reneluijk/anaconda3/lib/python3.11/site-packages (from google-cloud-aiplatform[all]==1.49.0->vertexai->underdogcowboy==0.1.12) (1.23.0)\n",
      "Requirement already satisfied: protobuf!=3.20.0,!=3.20.1,!=4.21.0,!=4.21.1,!=4.21.2,!=4.21.3,!=4.21.4,!=4.21.5,<5.0.0dev,>=3.19.5 in /Users/reneluijk/anaconda3/lib/python3.11/site-packages (from google-cloud-aiplatform[all]==1.49.0->vertexai->underdogcowboy==0.1.12) (4.21.12)\n",
      "Requirement already satisfied: packaging>=14.3 in /Users/reneluijk/anaconda3/lib/python3.11/site-packages (from google-cloud-aiplatform[all]==1.49.0->vertexai->underdogcowboy==0.1.12) (23.0)\n",
      "Requirement already satisfied: google-cloud-storage<3.0.0dev,>=1.32.0 in /Users/reneluijk/anaconda3/lib/python3.11/site-packages (from google-cloud-aiplatform[all]==1.49.0->vertexai->underdogcowboy==0.1.12) (2.16.0)\n",
      "Requirement already satisfied: google-cloud-bigquery!=3.20.0,<4.0.0dev,>=1.15.0 in /Users/reneluijk/anaconda3/lib/python3.11/site-packages (from google-cloud-aiplatform[all]==1.49.0->vertexai->underdogcowboy==0.1.12) (3.24.0)\n",
      "Requirement already satisfied: google-cloud-resource-manager<3.0.0dev,>=1.3.3 in /Users/reneluijk/anaconda3/lib/python3.11/site-packages (from google-cloud-aiplatform[all]==1.49.0->vertexai->underdogcowboy==0.1.12) (1.12.3)\n",
      "Requirement already satisfied: shapely<3.0.0dev in /Users/reneluijk/anaconda3/lib/python3.11/site-packages (from google-cloud-aiplatform[all]==1.49.0->vertexai->underdogcowboy==0.1.12) (2.0.4)\n",
      "Requirement already satisfied: docstring-parser<1 in /Users/reneluijk/anaconda3/lib/python3.11/site-packages (from google-cloud-aiplatform[all]==1.49.0->vertexai->underdogcowboy==0.1.12) (0.15)\n",
      "Requirement already satisfied: idna>=2.8 in /Users/reneluijk/anaconda3/lib/python3.11/site-packages (from anyio<5,>=3.5.0->groq->underdogcowboy==0.1.12) (3.4)\n",
      "Requirement already satisfied: certifi in /Users/reneluijk/anaconda3/lib/python3.11/site-packages (from httpx<1,>=0.23.0->groq->underdogcowboy==0.1.12) (2023.11.17)\n",
      "Requirement already satisfied: httpcore==1.* in /Users/reneluijk/anaconda3/lib/python3.11/site-packages (from httpx<1,>=0.23.0->groq->underdogcowboy==0.1.12) (1.0.1)\n",
      "Requirement already satisfied: h11<0.15,>=0.13 in /Users/reneluijk/anaconda3/lib/python3.11/site-packages (from httpcore==1.*->httpx<1,>=0.23.0->groq->underdogcowboy==0.1.12) (0.14.0)\n",
      "Requirement already satisfied: zipp>=0.5 in /Users/reneluijk/anaconda3/lib/python3.11/site-packages (from importlib-metadata>=4.11.4->keyring->underdogcowboy==0.1.12) (3.11.0)\n",
      "Requirement already satisfied: annotated-types>=0.4.0 in /Users/reneluijk/anaconda3/lib/python3.11/site-packages (from pydantic<3,>=1.9.0->groq->underdogcowboy==0.1.12) (0.6.0)\n",
      "Requirement already satisfied: pydantic-core==2.10.1 in /Users/reneluijk/anaconda3/lib/python3.11/site-packages (from pydantic<3,>=1.9.0->groq->underdogcowboy==0.1.12) (2.10.1)\n",
      "Requirement already satisfied: charset-normalizer<4,>=2 in /Users/reneluijk/anaconda3/lib/python3.11/site-packages (from requests<3,>=2->langsmith->underdogcowboy==0.1.12) (2.0.4)\n",
      "Requirement already satisfied: urllib3<3,>=1.21.1 in /Users/reneluijk/anaconda3/lib/python3.11/site-packages (from requests<3,>=2->langsmith->underdogcowboy==0.1.12) (1.26.16)\n",
      "Requirement already satisfied: more-itertools in /Users/reneluijk/anaconda3/lib/python3.11/site-packages (from jaraco.classes->keyring->underdogcowboy==0.1.12) (8.12.0)\n",
      "Requirement already satisfied: googleapis-common-protos<2.0.dev0,>=1.56.2 in /Users/reneluijk/anaconda3/lib/python3.11/site-packages (from google-api-core[grpc]!=2.0.*,!=2.1.*,!=2.2.*,!=2.3.*,!=2.4.*,!=2.5.*,!=2.6.*,!=2.7.*,<3.0.0dev,>=1.34.1->google-cloud-aiplatform[all]==1.49.0->vertexai->underdogcowboy==0.1.12) (1.63.0)\n",
      "Requirement already satisfied: grpcio<2.0dev,>=1.33.2 in /Users/reneluijk/anaconda3/lib/python3.11/site-packages (from google-api-core[grpc]!=2.0.*,!=2.1.*,!=2.2.*,!=2.3.*,!=2.4.*,!=2.5.*,!=2.6.*,!=2.7.*,<3.0.0dev,>=1.34.1->google-cloud-aiplatform[all]==1.49.0->vertexai->underdogcowboy==0.1.12) (1.63.0)\n",
      "Requirement already satisfied: grpcio-status<2.0.dev0,>=1.33.2 in /Users/reneluijk/anaconda3/lib/python3.11/site-packages (from google-api-core[grpc]!=2.0.*,!=2.1.*,!=2.2.*,!=2.3.*,!=2.4.*,!=2.5.*,!=2.6.*,!=2.7.*,<3.0.0dev,>=1.34.1->google-cloud-aiplatform[all]==1.49.0->vertexai->underdogcowboy==0.1.12) (1.62.2)\n",
      "Requirement already satisfied: cachetools<6.0,>=2.0.0 in /Users/reneluijk/anaconda3/lib/python3.11/site-packages (from google-auth<3.0.0dev,>=2.14.1->google-cloud-aiplatform[all]==1.49.0->vertexai->underdogcowboy==0.1.12) (5.3.3)\n",
      "Requirement already satisfied: pyasn1-modules>=0.2.1 in /Users/reneluijk/anaconda3/lib/python3.11/site-packages (from google-auth<3.0.0dev,>=2.14.1->google-cloud-aiplatform[all]==1.49.0->vertexai->underdogcowboy==0.1.12) (0.2.8)\n",
      "Requirement already satisfied: rsa<5,>=3.1.4 in /Users/reneluijk/anaconda3/lib/python3.11/site-packages (from google-auth<3.0.0dev,>=2.14.1->google-cloud-aiplatform[all]==1.49.0->vertexai->underdogcowboy==0.1.12) (4.9)\n",
      "Requirement already satisfied: google-cloud-core<3.0.0dev,>=1.6.0 in /Users/reneluijk/anaconda3/lib/python3.11/site-packages (from google-cloud-bigquery!=3.20.0,<4.0.0dev,>=1.15.0->google-cloud-aiplatform[all]==1.49.0->vertexai->underdogcowboy==0.1.12) (2.4.1)\n",
      "Requirement already satisfied: google-resumable-media<3.0dev,>=0.6.0 in /Users/reneluijk/anaconda3/lib/python3.11/site-packages (from google-cloud-bigquery!=3.20.0,<4.0.0dev,>=1.15.0->google-cloud-aiplatform[all]==1.49.0->vertexai->underdogcowboy==0.1.12) (2.7.0)\n",
      "Requirement already satisfied: python-dateutil<3.0dev,>=2.7.2 in /Users/reneluijk/anaconda3/lib/python3.11/site-packages (from google-cloud-bigquery!=3.20.0,<4.0.0dev,>=1.15.0->google-cloud-aiplatform[all]==1.49.0->vertexai->underdogcowboy==0.1.12) (2.8.2)\n",
      "Requirement already satisfied: grpc-google-iam-v1<1.0.0dev,>=0.12.4 in /Users/reneluijk/anaconda3/lib/python3.11/site-packages (from google-cloud-resource-manager<3.0.0dev,>=1.3.3->google-cloud-aiplatform[all]==1.49.0->vertexai->underdogcowboy==0.1.12) (0.13.0)\n",
      "Requirement already satisfied: google-crc32c<2.0dev,>=1.0 in /Users/reneluijk/anaconda3/lib/python3.11/site-packages (from google-cloud-storage<3.0.0dev,>=1.32.0->google-cloud-aiplatform[all]==1.49.0->vertexai->underdogcowboy==0.1.12) (1.5.0)\n",
      "Requirement already satisfied: numpy<3,>=1.14 in /Users/reneluijk/anaconda3/lib/python3.11/site-packages (from shapely<3.0.0dev->google-cloud-aiplatform[all]==1.49.0->vertexai->underdogcowboy==0.1.12) (1.24.3)\n",
      "Requirement already satisfied: pyasn1<0.5.0,>=0.4.6 in /Users/reneluijk/anaconda3/lib/python3.11/site-packages (from pyasn1-modules>=0.2.1->google-auth<3.0.0dev,>=2.14.1->google-cloud-aiplatform[all]==1.49.0->vertexai->underdogcowboy==0.1.12) (0.4.8)\n",
      "Requirement already satisfied: six>=1.5 in /Users/reneluijk/anaconda3/lib/python3.11/site-packages (from python-dateutil<3.0dev,>=2.7.2->google-cloud-bigquery!=3.20.0,<4.0.0dev,>=1.15.0->google-cloud-aiplatform[all]==1.49.0->vertexai->underdogcowboy==0.1.12) (1.16.0)\n",
      "Downloading langsmith-0.1.96-py3-none-any.whl (140 kB)\n",
      "\u001b[2K   \u001b[90m━━━━━━━━━━━━━━━━━━━━━━━━━━━━━━━━━━━━━━━━\u001b[0m \u001b[32m140.1/140.1 kB\u001b[0m \u001b[31m1.9 MB/s\u001b[0m eta \u001b[36m0:00:00\u001b[0m \u001b[36m0:00:01\u001b[0m\n",
      "\u001b[?25hDownloading orjson-3.10.6-cp311-cp311-macosx_10_15_x86_64.macosx_11_0_arm64.macosx_10_15_universal2.whl (250 kB)\n",
      "\u001b[2K   \u001b[90m━━━━━━━━━━━━━━━━━━━━━━━━━━━━━━━━━━━━━━━━\u001b[0m \u001b[32m250.5/250.5 kB\u001b[0m \u001b[31m1.9 MB/s\u001b[0m eta \u001b[36m0:00:00\u001b[0ma \u001b[36m0:00:01\u001b[0m\n",
      "\u001b[?25hBuilding wheels for collected packages: underdogcowboy\n",
      "  Building editable for underdogcowboy (pyproject.toml) ... \u001b[?25ldone\n",
      "\u001b[?25h  Created wheel for underdogcowboy: filename=underdogcowboy-0.1.12-0.editable-py3-none-any.whl size=5483 sha256=9b5d2be7b677e66ff75f1805268082ec279904e144dd97bc7b0753c8d9a1d6ae\n",
      "  Stored in directory: /private/var/folders/qn/frxwrvf97n53wrnstsr14h180000gn/T/pip-ephem-wheel-cache-d2i22437/wheels/c4/04/c7/5f6cccdaabb676c3c81ef3c5fffdf8dd8e507db559e67fe2cd\n",
      "Successfully built underdogcowboy\n",
      "Installing collected packages: orjson, langsmith, underdogcowboy\n",
      "  Attempting uninstall: underdogcowboy\n",
      "    Found existing installation: underdogcowboy 0.1.12\n",
      "    Uninstalling underdogcowboy-0.1.12:\n",
      "      Successfully uninstalled underdogcowboy-0.1.12\n",
      "Successfully installed langsmith-0.1.96 orjson-3.10.6 underdogcowboy-0.1.12\n"
     ]
    }
   ],
   "source": [
    "# sample path for typesetting: /Users/reneluijk/projects/UnderdogCowboy/underdogcowboy/core/extractor.py\n",
    "!pip install -e ..\n"
   ]
  },
  {
   "cell_type": "code",
   "execution_count": 1,
   "metadata": {},
   "outputs": [
    {
     "name": "stderr",
     "output_type": "stream",
     "text": [
      "DEBUG:underdogcowboy:Basic imports completed\n",
      "INFO:numexpr.utils:NumExpr defaulting to 8 threads.\n",
      "DEBUG:underdogcowboy:About to load agents\n",
      "DEBUG:underdogcowboy:Loading agents from package: underdogcowboy.agents\n",
      "DEBUG:underdogcowboy:Creating agent for new_language.json\n",
      "DEBUG:underdogcowboy:Creating agent for type_maker.json\n",
      "DEBUG:underdogcowboy:Creating agent for commit_promo.json\n",
      "DEBUG:underdogcowboy:Loaded 3 agents\n",
      "DEBUG:underdogcowboy:Adding agents to namespace\n",
      "DEBUG:underdogcowboy:Adding agent new_language to namespace\n",
      "DEBUG:underdogcowboy:Successfully added new_language\n",
      "DEBUG:underdogcowboy:Adding agent type_maker to namespace\n",
      "DEBUG:underdogcowboy:Successfully added type_maker\n",
      "DEBUG:underdogcowboy:Adding agent commit_promo to namespace\n",
      "DEBUG:underdogcowboy:Successfully added commit_promo\n",
      "DEBUG:underdogcowboy:Finished adding agents to namespace\n",
      "DEBUG:underdogcowboy:Updating __all__\n",
      "DEBUG:underdogcowboy:Finished updating __all__\n",
      "DEBUG:underdogcowboy:__init__.py execution completed\n",
      "DEBUG:keyring.backend:Loading KWallet\n",
      "DEBUG:keyring.backend:Loading SecretService\n",
      "DEBUG:keyring.backend:Loading Windows\n",
      "DEBUG:keyring.backend:Loading chainer\n",
      "DEBUG:keyring.backend:Loading libsecret\n",
      "DEBUG:keyring.backend:Loading macOS\n"
     ]
    },
    {
     "name": "stdout",
     "output_type": "stream",
     "text": [
      "Available models:\n",
      "1. anthropic\n",
      "2. google-vertex\n",
      "3. groq\n"
     ]
    },
    {
     "name": "stderr",
     "output_type": "stream",
     "text": [
      "DEBUG:urllib3.connectionpool:Starting new HTTPS connection (1): api.smith.langchain.com:443\n",
      "DEBUG:urllib3.connectionpool:Starting new HTTPS connection (1): api.smith.langchain.com:443\n",
      "DEBUG:urllib3.connectionpool:https://api.smith.langchain.com:443 \"GET /info HTTP/1.1\" 200 455\n",
      "DEBUG:urllib3.connectionpool:https://api.smith.langchain.com:443 \"GET /info HTTP/1.1\" 200 455\n",
      "DEBUG:urllib3.connectionpool:https://api.smith.langchain.com:443 \"POST /runs/batch HTTP/1.1\" 202 33\n",
      "DEBUG:langsmith.utils:Failed to deepcopy input: TypeError(\"cannot pickle '_thread.lock' object\")\n"
     ]
    },
    {
     "name": "stdout",
     "output_type": "stream",
     "text": [
      "anthropic model initialized successfully.\n",
      "Timeline loaded from None, starting in interactive mode with current position at index 1.\n",
      "Interactive mode started.\n"
     ]
    },
    {
     "name": "stderr",
     "output_type": "stream",
     "text": [
      "DEBUG:langsmith.client:Orjson serialization failed: TypeError('Type is not JSON serializable: weakref.ReferenceType'). Falling back to json.\n",
      "DEBUG:langsmith.client:Failed to serialize <class 'weakref.ReferenceType'> to JSON: Object of type ReferenceType is not JSON serializable\n",
      "DEBUG:langsmith.client:Orjson serialization failed: TypeError('Type is not JSON serializable: LangSmithRetry'). Falling back to json.\n",
      "DEBUG:langsmith.client:Failed to serialize <class 'langsmith.utils.LangSmithRetry'> to JSON: Object of type LangSmithRetry is not JSON serializable\n",
      "DEBUG:langsmith.client:Orjson serialization failed: TypeError('Type is not JSON serializable: Session'). Falling back to json.\n",
      "DEBUG:langsmith.client:Failed to serialize <class 'requests.sessions.Session'> to JSON: Object of type Session is not JSON serializable\n",
      "DEBUG:langsmith.client:Orjson serialization failed: TypeError('Type is not JSON serializable: functools._lru_cache_wrapper'). Falling back to json.\n",
      "DEBUG:langsmith.client:Failed to serialize <class 'functools._lru_cache_wrapper'> to JSON: Object of type _lru_cache_wrapper is not JSON serializable\n",
      "DEBUG:langsmith.client:Orjson serialization failed: TypeError('Type is not JSON serializable: set'). Falling back to json.\n",
      "DEBUG:langsmith.client:Failed to serialize <class 'set'> to JSON: Object of type set is not JSON serializable\n",
      "DEBUG:langsmith.client:Orjson serialization failed: TypeError('Type is not JSON serializable: PriorityQueue'). Falling back to json.\n",
      "DEBUG:langsmith.client:Failed to serialize <class 'queue.PriorityQueue'> to JSON: Object of type PriorityQueue is not JSON serializable\n",
      "DEBUG:langsmith.client:Orjson serialization failed: TypeError('Type is not JSON serializable: LangSmithInfo'). Falling back to json.\n",
      "DEBUG:langsmith.client:Failed to serialize <class 'langsmith.schemas.LangSmithInfo'> to JSON: Object of type LangSmithInfo is not JSON serializable\n",
      "DEBUG:urllib3.connectionpool:https://api.smith.langchain.com:443 \"POST /runs/batch HTTP/1.1\" 202 33\n"
     ]
    }
   ],
   "source": [
    "from underdogcowboy import DialogManager, commit_promo\n",
    "dm = DialogManager([commit_promo],use_tracing=True)\n"
   ]
  },
  {
   "cell_type": "code",
   "execution_count": 1,
   "metadata": {},
   "outputs": [
    {
     "name": "stderr",
     "output_type": "stream",
     "text": [
      "DEBUG:underdogcowboy:Basic imports completed\n",
      "INFO:numexpr.utils:NumExpr defaulting to 8 threads.\n",
      "DEBUG:underdogcowboy:About to load agents\n",
      "DEBUG:underdogcowboy:Loading agents from package: underdogcowboy.agents\n",
      "DEBUG:underdogcowboy:Creating agent for new_language.json\n",
      "DEBUG:underdogcowboy:Creating agent for type_maker.json\n",
      "DEBUG:underdogcowboy:Creating agent for commit_promo.json\n",
      "DEBUG:underdogcowboy:Loaded 3 agents\n",
      "DEBUG:underdogcowboy:Adding agents to namespace\n",
      "DEBUG:underdogcowboy:Adding agent new_language to namespace\n",
      "DEBUG:underdogcowboy:Successfully added new_language\n",
      "DEBUG:underdogcowboy:Adding agent type_maker to namespace\n",
      "DEBUG:underdogcowboy:Successfully added type_maker\n",
      "DEBUG:underdogcowboy:Adding agent commit_promo to namespace\n",
      "DEBUG:underdogcowboy:Successfully added commit_promo\n",
      "DEBUG:underdogcowboy:Finished adding agents to namespace\n",
      "DEBUG:underdogcowboy:Updating __all__\n",
      "DEBUG:underdogcowboy:Finished updating __all__\n",
      "DEBUG:underdogcowboy:__init__.py execution completed\n",
      "DEBUG:keyring.backend:Loading KWallet\n",
      "DEBUG:keyring.backend:Loading SecretService\n",
      "DEBUG:keyring.backend:Loading Windows\n",
      "DEBUG:keyring.backend:Loading chainer\n",
      "DEBUG:keyring.backend:Loading libsecret\n",
      "DEBUG:keyring.backend:Loading macOS\n",
      "DEBUG:urllib3.connectionpool:Starting new HTTPS connection (1): api.anthropic.com:443\n"
     ]
    },
    {
     "name": "stdout",
     "output_type": "stream",
     "text": [
      "anthropic model initialized successfully.\n",
      "Timeline loaded from None, starting in interactive mode with current position at index 5.\n",
      "Interactive mode started.\n"
     ]
    },
    {
     "name": "stderr",
     "output_type": "stream",
     "text": [
      "DEBUG:urllib3.connectionpool:https://api.anthropic.com:443 \"POST /v1/messages HTTP/1.1\" 200 None\n"
     ]
    },
    {
     "name": "stdout",
     "output_type": "stream",
     "text": [
      "Response saved to: /Users/reneluijk/projects/UnderdogCowboy/examples/temp_files/type-concept_1722476634_e1eee96e\n",
      "Merge initiated. Please resolve conflicts (if any) and complete the merge.\n",
      "You can now use 'git diff' to see the changes.\n"
     ]
    }
   ],
   "source": [
    "from underdogcowboy import type_maker, DialogManager\n",
    "\n",
    "# our repository\n",
    "repo_path = \"/Users/reneluijk/projects/UnderdogCowboy\"\n",
    "# The file we want the LLM to type with nice type definitions on the methods and variables.\n",
    "file_path = \"underdogcowboy/core/extractor.py\"\n",
    "# This file needs to be created from the LLM response\n",
    "changed_file_path = \"/Users/reneluijk/projects/UnderdogCowboy/test_change.py\"\n",
    "type_maker.create_typed_diff(repo_path, file_path)\n",
    "#type_maker.git_diff_workflow(repo_path, file_path, changed_file_path)\n",
    "\n"
   ]
  }
 ],
 "metadata": {
  "kernelspec": {
   "display_name": "base",
   "language": "python",
   "name": "python3"
  },
  "language_info": {
   "codemirror_mode": {
    "name": "ipython",
    "version": 3
   },
   "file_extension": ".py",
   "mimetype": "text/x-python",
   "name": "python",
   "nbconvert_exporter": "python",
   "pygments_lexer": "ipython3",
   "version": "3.11.4"
  }
 },
 "nbformat": 4,
 "nbformat_minor": 2
}
